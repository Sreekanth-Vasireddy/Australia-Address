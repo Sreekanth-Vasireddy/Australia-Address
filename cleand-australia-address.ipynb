{
 "cells": [
  {
   "cell_type": "code",
   "execution_count": 1,
   "id": "20605cae",
   "metadata": {
    "execution": {
     "iopub.execute_input": "2023-05-07T11:19:13.181589Z",
     "iopub.status.busy": "2023-05-07T11:19:13.180818Z",
     "iopub.status.idle": "2023-05-07T11:19:13.191774Z",
     "shell.execute_reply": "2023-05-07T11:19:13.190754Z"
    },
    "papermill": {
     "duration": 0.029657,
     "end_time": "2023-05-07T11:19:13.194012",
     "exception": false,
     "start_time": "2023-05-07T11:19:13.164355",
     "status": "completed"
    },
    "tags": []
   },
   "outputs": [],
   "source": [
    "import pandas as pd\n",
    "import numpy as np"
   ]
  },
  {
   "cell_type": "code",
   "execution_count": 2,
   "id": "269f175e",
   "metadata": {
    "execution": {
     "iopub.execute_input": "2023-05-07T11:19:13.219318Z",
     "iopub.status.busy": "2023-05-07T11:19:13.218946Z",
     "iopub.status.idle": "2023-05-07T11:20:30.916662Z",
     "shell.execute_reply": "2023-05-07T11:20:30.915649Z"
    },
    "papermill": {
     "duration": 77.722715,
     "end_time": "2023-05-07T11:20:30.928515",
     "exception": false,
     "start_time": "2023-05-07T11:19:13.205800",
     "status": "completed"
    },
    "tags": []
   },
   "outputs": [
    {
     "data": {
      "text/html": [
       "<div>\n",
       "<style scoped>\n",
       "    .dataframe tbody tr th:only-of-type {\n",
       "        vertical-align: middle;\n",
       "    }\n",
       "\n",
       "    .dataframe tbody tr th {\n",
       "        vertical-align: top;\n",
       "    }\n",
       "\n",
       "    .dataframe thead th {\n",
       "        text-align: right;\n",
       "    }\n",
       "</style>\n",
       "<table border=\"1\" class=\"dataframe\">\n",
       "  <thead>\n",
       "    <tr style=\"text-align: right;\">\n",
       "      <th></th>\n",
       "      <th>LON</th>\n",
       "      <th>LAT</th>\n",
       "      <th>NUMBER</th>\n",
       "      <th>STREET</th>\n",
       "      <th>UNIT</th>\n",
       "      <th>CITY</th>\n",
       "      <th>DISTRICT</th>\n",
       "      <th>REGION</th>\n",
       "      <th>POSTCODE</th>\n",
       "      <th>ID</th>\n",
       "      <th>HASH</th>\n",
       "    </tr>\n",
       "  </thead>\n",
       "  <tbody>\n",
       "    <tr>\n",
       "      <th>0</th>\n",
       "      <td>149.137753</td>\n",
       "      <td>-35.415987</td>\n",
       "      <td>14</td>\n",
       "      <td>Watterson Place</td>\n",
       "      <td>NaN</td>\n",
       "      <td>NaN</td>\n",
       "      <td>TUGGERANONG</td>\n",
       "      <td>NaN</td>\n",
       "      <td>NaN</td>\n",
       "      <td>NaN</td>\n",
       "      <td>NaN</td>\n",
       "    </tr>\n",
       "    <tr>\n",
       "      <th>1</th>\n",
       "      <td>149.044164</td>\n",
       "      <td>-35.245836</td>\n",
       "      <td>29</td>\n",
       "      <td>Springvale Drive</td>\n",
       "      <td>NaN</td>\n",
       "      <td>NaN</td>\n",
       "      <td>BELCONNEN</td>\n",
       "      <td>NaN</td>\n",
       "      <td>NaN</td>\n",
       "      <td>NaN</td>\n",
       "      <td>NaN</td>\n",
       "    </tr>\n",
       "    <tr>\n",
       "      <th>2</th>\n",
       "      <td>149.154625</td>\n",
       "      <td>-35.242837</td>\n",
       "      <td>8</td>\n",
       "      <td>Andrews Street</td>\n",
       "      <td>NaN</td>\n",
       "      <td>NaN</td>\n",
       "      <td>CANBERRA CENTRAL</td>\n",
       "      <td>NaN</td>\n",
       "      <td>NaN</td>\n",
       "      <td>NaN</td>\n",
       "      <td>NaN</td>\n",
       "    </tr>\n",
       "  </tbody>\n",
       "</table>\n",
       "</div>"
      ],
      "text/plain": [
       "          LON        LAT NUMBER            STREET UNIT CITY          DISTRICT  \\\n",
       "0  149.137753 -35.415987     14   Watterson Place  NaN  NaN       TUGGERANONG   \n",
       "1  149.044164 -35.245836     29  Springvale Drive  NaN  NaN         BELCONNEN   \n",
       "2  149.154625 -35.242837      8    Andrews Street  NaN  NaN  CANBERRA CENTRAL   \n",
       "\n",
       "  REGION  POSTCODE  ID HASH  \n",
       "0    NaN       NaN NaN  NaN  \n",
       "1    NaN       NaN NaN  NaN  \n",
       "2    NaN       NaN NaN  NaN  "
      ]
     },
     "execution_count": 2,
     "metadata": {},
     "output_type": "execute_result"
    }
   ],
   "source": [
    "# load data from CSV file\n",
    "data= pd.read_csv(\"/kaggle/input/openaddresses-asia-and-oceania/australia.csv\",low_memory=False)\n",
    "data.head(3)"
   ]
  },
  {
   "cell_type": "code",
   "execution_count": 3,
   "id": "c268b6ea",
   "metadata": {
    "execution": {
     "iopub.execute_input": "2023-05-07T11:20:30.954011Z",
     "iopub.status.busy": "2023-05-07T11:20:30.953281Z",
     "iopub.status.idle": "2023-05-07T11:20:30.988678Z",
     "shell.execute_reply": "2023-05-07T11:20:30.987574Z"
    },
    "papermill": {
     "duration": 0.050682,
     "end_time": "2023-05-07T11:20:30.990888",
     "exception": false,
     "start_time": "2023-05-07T11:20:30.940206",
     "status": "completed"
    },
    "tags": []
   },
   "outputs": [
    {
     "name": "stdout",
     "output_type": "stream",
     "text": [
      "<class 'pandas.core.frame.DataFrame'>\n",
      "RangeIndex: 20632875 entries, 0 to 20632874\n",
      "Data columns (total 11 columns):\n",
      " #   Column    Dtype  \n",
      "---  ------    -----  \n",
      " 0   LON       float64\n",
      " 1   LAT       float64\n",
      " 2   NUMBER    object \n",
      " 3   STREET    object \n",
      " 4   UNIT      object \n",
      " 5   CITY      object \n",
      " 6   DISTRICT  object \n",
      " 7   REGION    object \n",
      " 8   POSTCODE  float64\n",
      " 9   ID        float64\n",
      " 10  HASH      object \n",
      "dtypes: float64(4), object(7)\n",
      "memory usage: 1.7+ GB\n"
     ]
    },
    {
     "data": {
      "text/html": [
       "<div>\n",
       "<style scoped>\n",
       "    .dataframe tbody tr th:only-of-type {\n",
       "        vertical-align: middle;\n",
       "    }\n",
       "\n",
       "    .dataframe tbody tr th {\n",
       "        vertical-align: top;\n",
       "    }\n",
       "\n",
       "    .dataframe thead th {\n",
       "        text-align: right;\n",
       "    }\n",
       "</style>\n",
       "<table border=\"1\" class=\"dataframe\">\n",
       "  <thead>\n",
       "    <tr style=\"text-align: right;\">\n",
       "      <th></th>\n",
       "      <th>LON</th>\n",
       "      <th>LAT</th>\n",
       "      <th>NUMBER</th>\n",
       "      <th>STREET</th>\n",
       "      <th>UNIT</th>\n",
       "      <th>CITY</th>\n",
       "      <th>DISTRICT</th>\n",
       "      <th>REGION</th>\n",
       "      <th>POSTCODE</th>\n",
       "      <th>ID</th>\n",
       "      <th>HASH</th>\n",
       "    </tr>\n",
       "  </thead>\n",
       "  <tbody>\n",
       "    <tr>\n",
       "      <th>0</th>\n",
       "      <td>149.137753</td>\n",
       "      <td>-35.415987</td>\n",
       "      <td>14</td>\n",
       "      <td>Watterson Place</td>\n",
       "      <td>NaN</td>\n",
       "      <td>NaN</td>\n",
       "      <td>TUGGERANONG</td>\n",
       "      <td>NaN</td>\n",
       "      <td>NaN</td>\n",
       "      <td>NaN</td>\n",
       "      <td>NaN</td>\n",
       "    </tr>\n",
       "    <tr>\n",
       "      <th>1</th>\n",
       "      <td>149.044164</td>\n",
       "      <td>-35.245836</td>\n",
       "      <td>29</td>\n",
       "      <td>Springvale Drive</td>\n",
       "      <td>NaN</td>\n",
       "      <td>NaN</td>\n",
       "      <td>BELCONNEN</td>\n",
       "      <td>NaN</td>\n",
       "      <td>NaN</td>\n",
       "      <td>NaN</td>\n",
       "      <td>NaN</td>\n",
       "    </tr>\n",
       "    <tr>\n",
       "      <th>2</th>\n",
       "      <td>149.154625</td>\n",
       "      <td>-35.242837</td>\n",
       "      <td>8</td>\n",
       "      <td>Andrews Street</td>\n",
       "      <td>NaN</td>\n",
       "      <td>NaN</td>\n",
       "      <td>CANBERRA CENTRAL</td>\n",
       "      <td>NaN</td>\n",
       "      <td>NaN</td>\n",
       "      <td>NaN</td>\n",
       "      <td>NaN</td>\n",
       "    </tr>\n",
       "  </tbody>\n",
       "</table>\n",
       "</div>"
      ],
      "text/plain": [
       "          LON        LAT NUMBER            STREET UNIT CITY          DISTRICT  \\\n",
       "0  149.137753 -35.415987     14   Watterson Place  NaN  NaN       TUGGERANONG   \n",
       "1  149.044164 -35.245836     29  Springvale Drive  NaN  NaN         BELCONNEN   \n",
       "2  149.154625 -35.242837      8    Andrews Street  NaN  NaN  CANBERRA CENTRAL   \n",
       "\n",
       "  REGION  POSTCODE  ID HASH  \n",
       "0    NaN       NaN NaN  NaN  \n",
       "1    NaN       NaN NaN  NaN  \n",
       "2    NaN       NaN NaN  NaN  "
      ]
     },
     "execution_count": 3,
     "metadata": {},
     "output_type": "execute_result"
    }
   ],
   "source": [
    "# Displays a concise summary of the DataFrame, including the number of non-null values and data types of each column.\n",
    "data.info()\n",
    "\n",
    "# Displays the first three rows of the DataFrame.\n",
    "data.head(3)\n"
   ]
  },
  {
   "cell_type": "code",
   "execution_count": 4,
   "id": "9e148e13",
   "metadata": {
    "execution": {
     "iopub.execute_input": "2023-05-07T11:20:31.016562Z",
     "iopub.status.busy": "2023-05-07T11:20:31.016178Z",
     "iopub.status.idle": "2023-05-07T11:20:51.913767Z",
     "shell.execute_reply": "2023-05-07T11:20:51.912697Z"
    },
    "papermill": {
     "duration": 20.912768,
     "end_time": "2023-05-07T11:20:51.915758",
     "exception": false,
     "start_time": "2023-05-07T11:20:31.002990",
     "status": "completed"
    },
    "tags": []
   },
   "outputs": [
    {
     "data": {
      "text/plain": [
       "LON                0\n",
       "LAT                0\n",
       "NUMBER        889235\n",
       "STREET         33521\n",
       "UNIT        16459867\n",
       "CITY         6076233\n",
       "DISTRICT    20456745\n",
       "REGION       6218913\n",
       "POSTCODE     6220690\n",
       "ID          20370267\n",
       "HASH          176130\n",
       "dtype: int64"
      ]
     },
     "execution_count": 4,
     "metadata": {},
     "output_type": "execute_result"
    }
   ],
   "source": [
    "# checking for missing values in the dataframe\n",
    "data.isna().sum()\n"
   ]
  },
  {
   "cell_type": "code",
   "execution_count": 5,
   "id": "34a123ed",
   "metadata": {
    "execution": {
     "iopub.execute_input": "2023-05-07T11:20:51.941905Z",
     "iopub.status.busy": "2023-05-07T11:20:51.941546Z",
     "iopub.status.idle": "2023-05-07T11:20:53.684891Z",
     "shell.execute_reply": "2023-05-07T11:20:53.683898Z"
    },
    "papermill": {
     "duration": 1.758757,
     "end_time": "2023-05-07T11:20:53.686887",
     "exception": false,
     "start_time": "2023-05-07T11:20:51.928130",
     "status": "completed"
    },
    "tags": []
   },
   "outputs": [],
   "source": [
    "# Drop columns 'ID' and 'HASH' from the dataframe\n",
    "data=data.drop(['ID','HASH'],axis=1)"
   ]
  },
  {
   "cell_type": "code",
   "execution_count": 6,
   "id": "a3c78f88",
   "metadata": {
    "execution": {
     "iopub.execute_input": "2023-05-07T11:20:53.712641Z",
     "iopub.status.busy": "2023-05-07T11:20:53.712285Z",
     "iopub.status.idle": "2023-05-07T11:21:11.664579Z",
     "shell.execute_reply": "2023-05-07T11:21:11.663550Z"
    },
    "papermill": {
     "duration": 17.96764,
     "end_time": "2023-05-07T11:21:11.666882",
     "exception": false,
     "start_time": "2023-05-07T11:20:53.699242",
     "status": "completed"
    },
    "tags": []
   },
   "outputs": [
    {
     "data": {
      "text/plain": [
       "LON                0\n",
       "LAT                0\n",
       "NUMBER        889235\n",
       "STREET         33521\n",
       "UNIT        16459867\n",
       "CITY         6076233\n",
       "DISTRICT    20456745\n",
       "REGION       6218913\n",
       "POSTCODE     6220690\n",
       "dtype: int64"
      ]
     },
     "execution_count": 6,
     "metadata": {},
     "output_type": "execute_result"
    }
   ],
   "source": [
    "# Print out the number of missing values in each column\n",
    "data.isna().sum()"
   ]
  },
  {
   "cell_type": "code",
   "execution_count": 7,
   "id": "f409c6b6",
   "metadata": {
    "execution": {
     "iopub.execute_input": "2023-05-07T11:21:11.693429Z",
     "iopub.status.busy": "2023-05-07T11:21:11.693055Z",
     "iopub.status.idle": "2023-05-07T11:21:27.358737Z",
     "shell.execute_reply": "2023-05-07T11:21:27.357715Z"
    },
    "papermill": {
     "duration": 15.682076,
     "end_time": "2023-05-07T11:21:27.361447",
     "exception": false,
     "start_time": "2023-05-07T11:21:11.679371",
     "status": "completed"
    },
    "tags": []
   },
   "outputs": [],
   "source": [
    "# Drop rows with missing values in columns 'UNIT', 'CITY', 'DISTRICT', 'REGION', and 'POSTCODE'\n",
    "data.dropna(axis='index',how ='all',subset=['UNIT','CITY','DISTRICT','REGION','POSTCODE'],inplace=True)"
   ]
  },
  {
   "cell_type": "code",
   "execution_count": 8,
   "id": "3fb6e8e8",
   "metadata": {
    "execution": {
     "iopub.execute_input": "2023-05-07T11:21:27.388220Z",
     "iopub.status.busy": "2023-05-07T11:21:27.387486Z",
     "iopub.status.idle": "2023-05-07T11:21:34.398970Z",
     "shell.execute_reply": "2023-05-07T11:21:34.397908Z"
    },
    "papermill": {
     "duration": 7.027153,
     "end_time": "2023-05-07T11:21:34.401137",
     "exception": false,
     "start_time": "2023-05-07T11:21:27.373984",
     "status": "completed"
    },
    "tags": []
   },
   "outputs": [
    {
     "data": {
      "text/plain": [
       "(14556642, 9)"
      ]
     },
     "execution_count": 8,
     "metadata": {},
     "output_type": "execute_result"
    }
   ],
   "source": [
    "# Drop rows with missing values in columns 'UNIT', 'CITY', and 'POSTCODE'\n",
    "data.dropna(axis='index',how ='all',subset=['UNIT','CITY','POSTCODE'],inplace=True)\n",
    "\n",
    "# Print the new shape of the dataframe\n",
    "data.shape"
   ]
  },
  {
   "cell_type": "code",
   "execution_count": 9,
   "id": "2a137241",
   "metadata": {
    "execution": {
     "iopub.execute_input": "2023-05-07T11:21:34.428856Z",
     "iopub.status.busy": "2023-05-07T11:21:34.428028Z",
     "iopub.status.idle": "2023-05-07T11:21:41.024747Z",
     "shell.execute_reply": "2023-05-07T11:21:41.023718Z"
    },
    "papermill": {
     "duration": 6.613355,
     "end_time": "2023-05-07T11:21:41.027341",
     "exception": false,
     "start_time": "2023-05-07T11:21:34.413986",
     "status": "completed"
    },
    "tags": []
   },
   "outputs": [
    {
     "data": {
      "text/plain": [
       "(14556642, 9)"
      ]
     },
     "execution_count": 9,
     "metadata": {},
     "output_type": "execute_result"
    }
   ],
   "source": [
    "# Drop rows with missing values in columns 'UNIT', 'CITY', and 'POSTCODE'\n",
    "data.dropna(axis='index',how ='all',subset=['UNIT','CITY','POSTCODE'],inplace=True)\n",
    "\n",
    "# Print the new shape of the dataframe\n",
    "data.shape"
   ]
  },
  {
   "cell_type": "code",
   "execution_count": 10,
   "id": "6148a92d",
   "metadata": {
    "execution": {
     "iopub.execute_input": "2023-05-07T11:21:41.053864Z",
     "iopub.status.busy": "2023-05-07T11:21:41.053468Z",
     "iopub.status.idle": "2023-05-07T11:21:46.569723Z",
     "shell.execute_reply": "2023-05-07T11:21:46.568575Z"
    },
    "papermill": {
     "duration": 5.532432,
     "end_time": "2023-05-07T11:21:46.572259",
     "exception": false,
     "start_time": "2023-05-07T11:21:41.039827",
     "status": "completed"
    },
    "tags": []
   },
   "outputs": [
    {
     "data": {
      "text/html": [
       "<div>\n",
       "<style scoped>\n",
       "    .dataframe tbody tr th:only-of-type {\n",
       "        vertical-align: middle;\n",
       "    }\n",
       "\n",
       "    .dataframe tbody tr th {\n",
       "        vertical-align: top;\n",
       "    }\n",
       "\n",
       "    .dataframe thead th {\n",
       "        text-align: right;\n",
       "    }\n",
       "</style>\n",
       "<table border=\"1\" class=\"dataframe\">\n",
       "  <thead>\n",
       "    <tr style=\"text-align: right;\">\n",
       "      <th></th>\n",
       "      <th>LON</th>\n",
       "      <th>LAT</th>\n",
       "      <th>NUMBER</th>\n",
       "      <th>STREET</th>\n",
       "      <th>UNIT</th>\n",
       "      <th>CITY</th>\n",
       "      <th>DISTRICT</th>\n",
       "      <th>REGION</th>\n",
       "      <th>POSTCODE</th>\n",
       "    </tr>\n",
       "  </thead>\n",
       "  <tbody>\n",
       "    <tr>\n",
       "      <th>176130</th>\n",
       "      <td>149.040149</td>\n",
       "      <td>-35.321495</td>\n",
       "      <td>60</td>\n",
       "      <td>JOHN GORTON DRIVE</td>\n",
       "      <td>UNIT 39</td>\n",
       "      <td>COOMBS</td>\n",
       "      <td>NaN</td>\n",
       "      <td>ACT</td>\n",
       "      <td>2611.0</td>\n",
       "    </tr>\n",
       "    <tr>\n",
       "      <th>176132</th>\n",
       "      <td>149.040149</td>\n",
       "      <td>-35.321495</td>\n",
       "      <td>60</td>\n",
       "      <td>JOHN GORTON DRIVE</td>\n",
       "      <td>UNIT 17</td>\n",
       "      <td>COOMBS</td>\n",
       "      <td>NaN</td>\n",
       "      <td>ACT</td>\n",
       "      <td>2611.0</td>\n",
       "    </tr>\n",
       "    <tr>\n",
       "      <th>176135</th>\n",
       "      <td>140.349443</td>\n",
       "      <td>-37.598421</td>\n",
       "      <td>97</td>\n",
       "      <td>WILLIAMS ROAD</td>\n",
       "      <td>UNIT 5</td>\n",
       "      <td>MILLICENT</td>\n",
       "      <td>NaN</td>\n",
       "      <td>SA</td>\n",
       "      <td>5280.0</td>\n",
       "    </tr>\n",
       "    <tr>\n",
       "      <th>176136</th>\n",
       "      <td>149.083158</td>\n",
       "      <td>-35.415716</td>\n",
       "      <td>11</td>\n",
       "      <td>STEFFANONI CIRCUIT</td>\n",
       "      <td>UNIT 13</td>\n",
       "      <td>MONASH</td>\n",
       "      <td>NaN</td>\n",
       "      <td>ACT</td>\n",
       "      <td>2904.0</td>\n",
       "    </tr>\n",
       "    <tr>\n",
       "      <th>176137</th>\n",
       "      <td>138.623021</td>\n",
       "      <td>-35.552118</td>\n",
       "      <td>72-74</td>\n",
       "      <td>OCEAN STREET</td>\n",
       "      <td>UNIT 4</td>\n",
       "      <td>VICTOR HARBOR</td>\n",
       "      <td>NaN</td>\n",
       "      <td>SA</td>\n",
       "      <td>5211.0</td>\n",
       "    </tr>\n",
       "    <tr>\n",
       "      <th>...</th>\n",
       "      <td>...</td>\n",
       "      <td>...</td>\n",
       "      <td>...</td>\n",
       "      <td>...</td>\n",
       "      <td>...</td>\n",
       "      <td>...</td>\n",
       "      <td>...</td>\n",
       "      <td>...</td>\n",
       "      <td>...</td>\n",
       "    </tr>\n",
       "    <tr>\n",
       "      <th>17205887</th>\n",
       "      <td>147.175453</td>\n",
       "      <td>-41.416169</td>\n",
       "      <td>2</td>\n",
       "      <td>BLYTH STREET</td>\n",
       "      <td>UNIT 4</td>\n",
       "      <td>RAVENSWOOD</td>\n",
       "      <td>NaN</td>\n",
       "      <td>TAS</td>\n",
       "      <td>7250.0</td>\n",
       "    </tr>\n",
       "    <tr>\n",
       "      <th>17205888</th>\n",
       "      <td>147.175329</td>\n",
       "      <td>-41.416352</td>\n",
       "      <td>2</td>\n",
       "      <td>BLYTH STREET</td>\n",
       "      <td>UNIT 2</td>\n",
       "      <td>RAVENSWOOD</td>\n",
       "      <td>NaN</td>\n",
       "      <td>TAS</td>\n",
       "      <td>7250.0</td>\n",
       "    </tr>\n",
       "    <tr>\n",
       "      <th>17205889</th>\n",
       "      <td>147.175407</td>\n",
       "      <td>-41.416436</td>\n",
       "      <td>2</td>\n",
       "      <td>BLYTH STREET</td>\n",
       "      <td>UNIT 15</td>\n",
       "      <td>RAVENSWOOD</td>\n",
       "      <td>NaN</td>\n",
       "      <td>TAS</td>\n",
       "      <td>7250.0</td>\n",
       "    </tr>\n",
       "    <tr>\n",
       "      <th>17205890</th>\n",
       "      <td>147.175667</td>\n",
       "      <td>-41.416391</td>\n",
       "      <td>2</td>\n",
       "      <td>BLYTH STREET</td>\n",
       "      <td>UNIT 17</td>\n",
       "      <td>RAVENSWOOD</td>\n",
       "      <td>NaN</td>\n",
       "      <td>TAS</td>\n",
       "      <td>7250.0</td>\n",
       "    </tr>\n",
       "    <tr>\n",
       "      <th>17205891</th>\n",
       "      <td>147.175759</td>\n",
       "      <td>-41.416344</td>\n",
       "      <td>2</td>\n",
       "      <td>BLYTH STREET</td>\n",
       "      <td>UNIT 19</td>\n",
       "      <td>RAVENSWOOD</td>\n",
       "      <td>NaN</td>\n",
       "      <td>TAS</td>\n",
       "      <td>7250.0</td>\n",
       "    </tr>\n",
       "  </tbody>\n",
       "</table>\n",
       "<p>4173008 rows × 9 columns</p>\n",
       "</div>"
      ],
      "text/plain": [
       "                 LON        LAT NUMBER              STREET     UNIT  \\\n",
       "176130    149.040149 -35.321495     60   JOHN GORTON DRIVE  UNIT 39   \n",
       "176132    149.040149 -35.321495     60   JOHN GORTON DRIVE  UNIT 17   \n",
       "176135    140.349443 -37.598421     97       WILLIAMS ROAD   UNIT 5   \n",
       "176136    149.083158 -35.415716     11  STEFFANONI CIRCUIT  UNIT 13   \n",
       "176137    138.623021 -35.552118  72-74        OCEAN STREET   UNIT 4   \n",
       "...              ...        ...    ...                 ...      ...   \n",
       "17205887  147.175453 -41.416169      2        BLYTH STREET   UNIT 4   \n",
       "17205888  147.175329 -41.416352      2        BLYTH STREET   UNIT 2   \n",
       "17205889  147.175407 -41.416436      2        BLYTH STREET  UNIT 15   \n",
       "17205890  147.175667 -41.416391      2        BLYTH STREET  UNIT 17   \n",
       "17205891  147.175759 -41.416344      2        BLYTH STREET  UNIT 19   \n",
       "\n",
       "                   CITY DISTRICT REGION  POSTCODE  \n",
       "176130           COOMBS      NaN    ACT    2611.0  \n",
       "176132           COOMBS      NaN    ACT    2611.0  \n",
       "176135        MILLICENT      NaN     SA    5280.0  \n",
       "176136           MONASH      NaN    ACT    2904.0  \n",
       "176137    VICTOR HARBOR      NaN     SA    5211.0  \n",
       "...                 ...      ...    ...       ...  \n",
       "17205887     RAVENSWOOD      NaN    TAS    7250.0  \n",
       "17205888     RAVENSWOOD      NaN    TAS    7250.0  \n",
       "17205889     RAVENSWOOD      NaN    TAS    7250.0  \n",
       "17205890     RAVENSWOOD      NaN    TAS    7250.0  \n",
       "17205891     RAVENSWOOD      NaN    TAS    7250.0  \n",
       "\n",
       "[4173008 rows x 9 columns]"
      ]
     },
     "execution_count": 10,
     "metadata": {},
     "output_type": "execute_result"
    }
   ],
   "source": [
    "data.dropna(axis='index',how ='all',subset=['UNIT','DISTRICT'],inplace=True)\n",
    "data"
   ]
  },
  {
   "cell_type": "code",
   "execution_count": 11,
   "id": "7af6305e",
   "metadata": {
    "execution": {
     "iopub.execute_input": "2023-05-07T11:21:46.599481Z",
     "iopub.status.busy": "2023-05-07T11:21:46.599128Z",
     "iopub.status.idle": "2023-05-07T11:21:50.191998Z",
     "shell.execute_reply": "2023-05-07T11:21:50.190936Z"
    },
    "papermill": {
     "duration": 3.609145,
     "end_time": "2023-05-07T11:21:50.194284",
     "exception": false,
     "start_time": "2023-05-07T11:21:46.585139",
     "status": "completed"
    },
    "tags": []
   },
   "outputs": [
    {
     "data": {
      "text/plain": [
       "LON               0\n",
       "LAT               0\n",
       "NUMBER         4932\n",
       "STREET            0\n",
       "UNIT              0\n",
       "CITY              0\n",
       "DISTRICT    4173008\n",
       "REGION       142680\n",
       "POSTCODE     142707\n",
       "dtype: int64"
      ]
     },
     "execution_count": 11,
     "metadata": {},
     "output_type": "execute_result"
    }
   ],
   "source": [
    "data.isna().sum()"
   ]
  },
  {
   "cell_type": "code",
   "execution_count": 12,
   "id": "073f53f8",
   "metadata": {
    "execution": {
     "iopub.execute_input": "2023-05-07T11:21:50.222201Z",
     "iopub.status.busy": "2023-05-07T11:21:50.221417Z",
     "iopub.status.idle": "2023-05-07T11:21:52.090469Z",
     "shell.execute_reply": "2023-05-07T11:21:52.089283Z"
    },
    "papermill": {
     "duration": 1.886008,
     "end_time": "2023-05-07T11:21:52.093171",
     "exception": false,
     "start_time": "2023-05-07T11:21:50.207163",
     "status": "completed"
    },
    "tags": []
   },
   "outputs": [],
   "source": [
    "# drop rows with missing values in columns 'UNIT' and 'DISTRICT'\n",
    "data.dropna(axis='index',how ='all',subset=['DISTRICT','REGION','POSTCODE'],inplace=True)"
   ]
  },
  {
   "cell_type": "code",
   "execution_count": 13,
   "id": "42f89a61",
   "metadata": {
    "execution": {
     "iopub.execute_input": "2023-05-07T11:21:52.121047Z",
     "iopub.status.busy": "2023-05-07T11:21:52.120673Z",
     "iopub.status.idle": "2023-05-07T11:21:52.125858Z",
     "shell.execute_reply": "2023-05-07T11:21:52.125043Z"
    },
    "papermill": {
     "duration": 0.021132,
     "end_time": "2023-05-07T11:21:52.127847",
     "exception": false,
     "start_time": "2023-05-07T11:21:52.106715",
     "status": "completed"
    },
    "tags": []
   },
   "outputs": [
    {
     "data": {
      "text/plain": [
       "(4030328, 9)"
      ]
     },
     "execution_count": 13,
     "metadata": {},
     "output_type": "execute_result"
    }
   ],
   "source": [
    "data.shape"
   ]
  },
  {
   "cell_type": "code",
   "execution_count": 14,
   "id": "a9b990ca",
   "metadata": {
    "execution": {
     "iopub.execute_input": "2023-05-07T11:21:52.155494Z",
     "iopub.status.busy": "2023-05-07T11:21:52.154814Z",
     "iopub.status.idle": "2023-05-07T11:21:55.602833Z",
     "shell.execute_reply": "2023-05-07T11:21:55.602135Z"
    },
    "papermill": {
     "duration": 3.464002,
     "end_time": "2023-05-07T11:21:55.604590",
     "exception": false,
     "start_time": "2023-05-07T11:21:52.140588",
     "status": "completed"
    },
    "tags": []
   },
   "outputs": [
    {
     "data": {
      "text/plain": [
       "LON               0\n",
       "LAT               0\n",
       "NUMBER         4932\n",
       "STREET            0\n",
       "UNIT              0\n",
       "CITY              0\n",
       "DISTRICT    4030328\n",
       "REGION            0\n",
       "POSTCODE         27\n",
       "dtype: int64"
      ]
     },
     "execution_count": 14,
     "metadata": {},
     "output_type": "execute_result"
    }
   ],
   "source": [
    "data.isna().sum()"
   ]
  },
  {
   "cell_type": "code",
   "execution_count": 15,
   "id": "fc998fa1",
   "metadata": {
    "execution": {
     "iopub.execute_input": "2023-05-07T11:21:55.632527Z",
     "iopub.status.busy": "2023-05-07T11:21:55.632133Z",
     "iopub.status.idle": "2023-05-07T11:21:57.476153Z",
     "shell.execute_reply": "2023-05-07T11:21:57.475052Z"
    },
    "papermill": {
     "duration": 1.86117,
     "end_time": "2023-05-07T11:21:57.478742",
     "exception": false,
     "start_time": "2023-05-07T11:21:55.617572",
     "status": "completed"
    },
    "tags": []
   },
   "outputs": [],
   "source": [
    "# drop rows with missing values in columns 'NUMBER' and 'DISTRICT'\n",
    "data.dropna(axis='index',how ='all',subset=['NUMBER','DISTRICT',],inplace=True)"
   ]
  },
  {
   "cell_type": "code",
   "execution_count": 16,
   "id": "cf98ba78",
   "metadata": {
    "execution": {
     "iopub.execute_input": "2023-05-07T11:21:57.508710Z",
     "iopub.status.busy": "2023-05-07T11:21:57.508330Z",
     "iopub.status.idle": "2023-05-07T11:22:00.987767Z",
     "shell.execute_reply": "2023-05-07T11:22:00.986722Z"
    },
    "papermill": {
     "duration": 3.497309,
     "end_time": "2023-05-07T11:22:00.990387",
     "exception": false,
     "start_time": "2023-05-07T11:21:57.493078",
     "status": "completed"
    },
    "tags": []
   },
   "outputs": [
    {
     "data": {
      "text/plain": [
       "LON               0\n",
       "LAT               0\n",
       "NUMBER            0\n",
       "STREET            0\n",
       "UNIT              0\n",
       "CITY              0\n",
       "DISTRICT    4025396\n",
       "REGION            0\n",
       "POSTCODE         25\n",
       "dtype: int64"
      ]
     },
     "execution_count": 16,
     "metadata": {},
     "output_type": "execute_result"
    }
   ],
   "source": [
    "data.isna().sum()"
   ]
  },
  {
   "cell_type": "code",
   "execution_count": 17,
   "id": "04e2dba9",
   "metadata": {
    "execution": {
     "iopub.execute_input": "2023-05-07T11:22:01.019700Z",
     "iopub.status.busy": "2023-05-07T11:22:01.019300Z",
     "iopub.status.idle": "2023-05-07T11:22:02.220730Z",
     "shell.execute_reply": "2023-05-07T11:22:02.219778Z"
    },
    "papermill": {
     "duration": 1.219252,
     "end_time": "2023-05-07T11:22:02.223450",
     "exception": false,
     "start_time": "2023-05-07T11:22:01.004198",
     "status": "completed"
    },
    "tags": []
   },
   "outputs": [],
   "source": [
    "data.dropna(axis='index',how ='all',subset=['DISTRICT','POSTCODE'],inplace=True)"
   ]
  },
  {
   "cell_type": "code",
   "execution_count": 18,
   "id": "b996e04a",
   "metadata": {
    "execution": {
     "iopub.execute_input": "2023-05-07T11:22:02.252621Z",
     "iopub.status.busy": "2023-05-07T11:22:02.251891Z",
     "iopub.status.idle": "2023-05-07T11:22:05.647463Z",
     "shell.execute_reply": "2023-05-07T11:22:05.646374Z"
    },
    "papermill": {
     "duration": 3.41257,
     "end_time": "2023-05-07T11:22:05.649696",
     "exception": false,
     "start_time": "2023-05-07T11:22:02.237126",
     "status": "completed"
    },
    "tags": []
   },
   "outputs": [
    {
     "data": {
      "text/plain": [
       "LON               0\n",
       "LAT               0\n",
       "NUMBER            0\n",
       "STREET            0\n",
       "UNIT              0\n",
       "CITY              0\n",
       "DISTRICT    4025371\n",
       "REGION            0\n",
       "POSTCODE          0\n",
       "dtype: int64"
      ]
     },
     "execution_count": 18,
     "metadata": {},
     "output_type": "execute_result"
    }
   ],
   "source": [
    "data.isna().sum()"
   ]
  },
  {
   "cell_type": "code",
   "execution_count": 19,
   "id": "a4492ece",
   "metadata": {
    "execution": {
     "iopub.execute_input": "2023-05-07T11:22:05.678000Z",
     "iopub.status.busy": "2023-05-07T11:22:05.677336Z",
     "iopub.status.idle": "2023-05-07T11:22:05.690907Z",
     "shell.execute_reply": "2023-05-07T11:22:05.690263Z"
    },
    "papermill": {
     "duration": 0.029717,
     "end_time": "2023-05-07T11:22:05.692727",
     "exception": false,
     "start_time": "2023-05-07T11:22:05.663010",
     "status": "completed"
    },
    "tags": []
   },
   "outputs": [
    {
     "data": {
      "text/html": [
       "<div>\n",
       "<style scoped>\n",
       "    .dataframe tbody tr th:only-of-type {\n",
       "        vertical-align: middle;\n",
       "    }\n",
       "\n",
       "    .dataframe tbody tr th {\n",
       "        vertical-align: top;\n",
       "    }\n",
       "\n",
       "    .dataframe thead th {\n",
       "        text-align: right;\n",
       "    }\n",
       "</style>\n",
       "<table border=\"1\" class=\"dataframe\">\n",
       "  <thead>\n",
       "    <tr style=\"text-align: right;\">\n",
       "      <th></th>\n",
       "      <th>LON</th>\n",
       "      <th>LAT</th>\n",
       "      <th>NUMBER</th>\n",
       "      <th>STREET</th>\n",
       "      <th>UNIT</th>\n",
       "      <th>CITY</th>\n",
       "      <th>DISTRICT</th>\n",
       "      <th>REGION</th>\n",
       "      <th>POSTCODE</th>\n",
       "    </tr>\n",
       "  </thead>\n",
       "  <tbody>\n",
       "    <tr>\n",
       "      <th>176130</th>\n",
       "      <td>149.040149</td>\n",
       "      <td>-35.321495</td>\n",
       "      <td>60</td>\n",
       "      <td>JOHN GORTON DRIVE</td>\n",
       "      <td>UNIT 39</td>\n",
       "      <td>COOMBS</td>\n",
       "      <td>NaN</td>\n",
       "      <td>ACT</td>\n",
       "      <td>2611.0</td>\n",
       "    </tr>\n",
       "    <tr>\n",
       "      <th>176132</th>\n",
       "      <td>149.040149</td>\n",
       "      <td>-35.321495</td>\n",
       "      <td>60</td>\n",
       "      <td>JOHN GORTON DRIVE</td>\n",
       "      <td>UNIT 17</td>\n",
       "      <td>COOMBS</td>\n",
       "      <td>NaN</td>\n",
       "      <td>ACT</td>\n",
       "      <td>2611.0</td>\n",
       "    </tr>\n",
       "    <tr>\n",
       "      <th>176135</th>\n",
       "      <td>140.349443</td>\n",
       "      <td>-37.598421</td>\n",
       "      <td>97</td>\n",
       "      <td>WILLIAMS ROAD</td>\n",
       "      <td>UNIT 5</td>\n",
       "      <td>MILLICENT</td>\n",
       "      <td>NaN</td>\n",
       "      <td>SA</td>\n",
       "      <td>5280.0</td>\n",
       "    </tr>\n",
       "    <tr>\n",
       "      <th>176136</th>\n",
       "      <td>149.083158</td>\n",
       "      <td>-35.415716</td>\n",
       "      <td>11</td>\n",
       "      <td>STEFFANONI CIRCUIT</td>\n",
       "      <td>UNIT 13</td>\n",
       "      <td>MONASH</td>\n",
       "      <td>NaN</td>\n",
       "      <td>ACT</td>\n",
       "      <td>2904.0</td>\n",
       "    </tr>\n",
       "    <tr>\n",
       "      <th>176137</th>\n",
       "      <td>138.623021</td>\n",
       "      <td>-35.552118</td>\n",
       "      <td>72-74</td>\n",
       "      <td>OCEAN STREET</td>\n",
       "      <td>UNIT 4</td>\n",
       "      <td>VICTOR HARBOR</td>\n",
       "      <td>NaN</td>\n",
       "      <td>SA</td>\n",
       "      <td>5211.0</td>\n",
       "    </tr>\n",
       "  </tbody>\n",
       "</table>\n",
       "</div>"
      ],
      "text/plain": [
       "               LON        LAT NUMBER              STREET     UNIT  \\\n",
       "176130  149.040149 -35.321495     60   JOHN GORTON DRIVE  UNIT 39   \n",
       "176132  149.040149 -35.321495     60   JOHN GORTON DRIVE  UNIT 17   \n",
       "176135  140.349443 -37.598421     97       WILLIAMS ROAD   UNIT 5   \n",
       "176136  149.083158 -35.415716     11  STEFFANONI CIRCUIT  UNIT 13   \n",
       "176137  138.623021 -35.552118  72-74        OCEAN STREET   UNIT 4   \n",
       "\n",
       "                 CITY DISTRICT REGION  POSTCODE  \n",
       "176130         COOMBS      NaN    ACT    2611.0  \n",
       "176132         COOMBS      NaN    ACT    2611.0  \n",
       "176135      MILLICENT      NaN     SA    5280.0  \n",
       "176136         MONASH      NaN    ACT    2904.0  \n",
       "176137  VICTOR HARBOR      NaN     SA    5211.0  "
      ]
     },
     "execution_count": 19,
     "metadata": {},
     "output_type": "execute_result"
    }
   ],
   "source": [
    "data.head()"
   ]
  },
  {
   "cell_type": "code",
   "execution_count": 20,
   "id": "4cb87ecb",
   "metadata": {
    "execution": {
     "iopub.execute_input": "2023-05-07T11:22:05.721120Z",
     "iopub.status.busy": "2023-05-07T11:22:05.720556Z",
     "iopub.status.idle": "2023-05-07T11:22:05.994440Z",
     "shell.execute_reply": "2023-05-07T11:22:05.993612Z"
    },
    "papermill": {
     "duration": 0.290941,
     "end_time": "2023-05-07T11:22:05.996799",
     "exception": false,
     "start_time": "2023-05-07T11:22:05.705858",
     "status": "completed"
    },
    "tags": []
   },
   "outputs": [],
   "source": [
    "# Drop the 'DISTRICT' column from the dataframe\n",
    "data.drop('DISTRICT', axis=1, inplace=True)\n"
   ]
  },
  {
   "cell_type": "code",
   "execution_count": 21,
   "id": "ca4a1db1",
   "metadata": {
    "execution": {
     "iopub.execute_input": "2023-05-07T11:22:06.026262Z",
     "iopub.status.busy": "2023-05-07T11:22:06.025726Z",
     "iopub.status.idle": "2023-05-07T11:22:06.037581Z",
     "shell.execute_reply": "2023-05-07T11:22:06.036870Z"
    },
    "papermill": {
     "duration": 0.02878,
     "end_time": "2023-05-07T11:22:06.039521",
     "exception": false,
     "start_time": "2023-05-07T11:22:06.010741",
     "status": "completed"
    },
    "tags": []
   },
   "outputs": [
    {
     "data": {
      "text/html": [
       "<div>\n",
       "<style scoped>\n",
       "    .dataframe tbody tr th:only-of-type {\n",
       "        vertical-align: middle;\n",
       "    }\n",
       "\n",
       "    .dataframe tbody tr th {\n",
       "        vertical-align: top;\n",
       "    }\n",
       "\n",
       "    .dataframe thead th {\n",
       "        text-align: right;\n",
       "    }\n",
       "</style>\n",
       "<table border=\"1\" class=\"dataframe\">\n",
       "  <thead>\n",
       "    <tr style=\"text-align: right;\">\n",
       "      <th></th>\n",
       "      <th>LON</th>\n",
       "      <th>LAT</th>\n",
       "      <th>NUMBER</th>\n",
       "      <th>STREET</th>\n",
       "      <th>UNIT</th>\n",
       "      <th>CITY</th>\n",
       "      <th>REGION</th>\n",
       "      <th>POSTCODE</th>\n",
       "    </tr>\n",
       "  </thead>\n",
       "  <tbody>\n",
       "    <tr>\n",
       "      <th>176130</th>\n",
       "      <td>149.040149</td>\n",
       "      <td>-35.321495</td>\n",
       "      <td>60</td>\n",
       "      <td>JOHN GORTON DRIVE</td>\n",
       "      <td>UNIT 39</td>\n",
       "      <td>COOMBS</td>\n",
       "      <td>ACT</td>\n",
       "      <td>2611.0</td>\n",
       "    </tr>\n",
       "    <tr>\n",
       "      <th>176132</th>\n",
       "      <td>149.040149</td>\n",
       "      <td>-35.321495</td>\n",
       "      <td>60</td>\n",
       "      <td>JOHN GORTON DRIVE</td>\n",
       "      <td>UNIT 17</td>\n",
       "      <td>COOMBS</td>\n",
       "      <td>ACT</td>\n",
       "      <td>2611.0</td>\n",
       "    </tr>\n",
       "    <tr>\n",
       "      <th>176135</th>\n",
       "      <td>140.349443</td>\n",
       "      <td>-37.598421</td>\n",
       "      <td>97</td>\n",
       "      <td>WILLIAMS ROAD</td>\n",
       "      <td>UNIT 5</td>\n",
       "      <td>MILLICENT</td>\n",
       "      <td>SA</td>\n",
       "      <td>5280.0</td>\n",
       "    </tr>\n",
       "    <tr>\n",
       "      <th>176136</th>\n",
       "      <td>149.083158</td>\n",
       "      <td>-35.415716</td>\n",
       "      <td>11</td>\n",
       "      <td>STEFFANONI CIRCUIT</td>\n",
       "      <td>UNIT 13</td>\n",
       "      <td>MONASH</td>\n",
       "      <td>ACT</td>\n",
       "      <td>2904.0</td>\n",
       "    </tr>\n",
       "    <tr>\n",
       "      <th>176137</th>\n",
       "      <td>138.623021</td>\n",
       "      <td>-35.552118</td>\n",
       "      <td>72-74</td>\n",
       "      <td>OCEAN STREET</td>\n",
       "      <td>UNIT 4</td>\n",
       "      <td>VICTOR HARBOR</td>\n",
       "      <td>SA</td>\n",
       "      <td>5211.0</td>\n",
       "    </tr>\n",
       "  </tbody>\n",
       "</table>\n",
       "</div>"
      ],
      "text/plain": [
       "               LON        LAT NUMBER              STREET     UNIT  \\\n",
       "176130  149.040149 -35.321495     60   JOHN GORTON DRIVE  UNIT 39   \n",
       "176132  149.040149 -35.321495     60   JOHN GORTON DRIVE  UNIT 17   \n",
       "176135  140.349443 -37.598421     97       WILLIAMS ROAD   UNIT 5   \n",
       "176136  149.083158 -35.415716     11  STEFFANONI CIRCUIT  UNIT 13   \n",
       "176137  138.623021 -35.552118  72-74        OCEAN STREET   UNIT 4   \n",
       "\n",
       "                 CITY REGION  POSTCODE  \n",
       "176130         COOMBS    ACT    2611.0  \n",
       "176132         COOMBS    ACT    2611.0  \n",
       "176135      MILLICENT     SA    5280.0  \n",
       "176136         MONASH    ACT    2904.0  \n",
       "176137  VICTOR HARBOR     SA    5211.0  "
      ]
     },
     "execution_count": 21,
     "metadata": {},
     "output_type": "execute_result"
    }
   ],
   "source": [
    "data.head()"
   ]
  },
  {
   "cell_type": "code",
   "execution_count": 22,
   "id": "ab64f039",
   "metadata": {
    "execution": {
     "iopub.execute_input": "2023-05-07T11:22:06.068725Z",
     "iopub.status.busy": "2023-05-07T11:22:06.068040Z",
     "iopub.status.idle": "2023-05-07T11:22:06.073696Z",
     "shell.execute_reply": "2023-05-07T11:22:06.072872Z"
    },
    "papermill": {
     "duration": 0.022457,
     "end_time": "2023-05-07T11:22:06.075591",
     "exception": false,
     "start_time": "2023-05-07T11:22:06.053134",
     "status": "completed"
    },
    "tags": []
   },
   "outputs": [
    {
     "data": {
      "text/plain": [
       "(4025371, 8)"
      ]
     },
     "execution_count": 22,
     "metadata": {},
     "output_type": "execute_result"
    }
   ],
   "source": [
    "data.shape"
   ]
  },
  {
   "cell_type": "code",
   "execution_count": 23,
   "id": "2c5bae2f",
   "metadata": {
    "execution": {
     "iopub.execute_input": "2023-05-07T11:22:06.105073Z",
     "iopub.status.busy": "2023-05-07T11:22:06.104421Z",
     "iopub.status.idle": "2023-05-07T11:22:06.113753Z",
     "shell.execute_reply": "2023-05-07T11:22:06.112550Z"
    },
    "papermill": {
     "duration": 0.026033,
     "end_time": "2023-05-07T11:22:06.115612",
     "exception": false,
     "start_time": "2023-05-07T11:22:06.089579",
     "status": "completed"
    },
    "tags": []
   },
   "outputs": [
    {
     "name": "stdout",
     "output_type": "stream",
     "text": [
      "<class 'pandas.core.frame.DataFrame'>\n",
      "Int64Index: 4025371 entries, 176130 to 17205891\n",
      "Data columns (total 8 columns):\n",
      " #   Column    Dtype  \n",
      "---  ------    -----  \n",
      " 0   LON       float64\n",
      " 1   LAT       float64\n",
      " 2   NUMBER    object \n",
      " 3   STREET    object \n",
      " 4   UNIT      object \n",
      " 5   CITY      object \n",
      " 6   REGION    object \n",
      " 7   POSTCODE  float64\n",
      "dtypes: float64(3), object(5)\n",
      "memory usage: 276.4+ MB\n"
     ]
    }
   ],
   "source": [
    "data.info()"
   ]
  },
  {
   "cell_type": "code",
   "execution_count": 24,
   "id": "6602f3b8",
   "metadata": {
    "execution": {
     "iopub.execute_input": "2023-05-07T11:22:06.145742Z",
     "iopub.status.busy": "2023-05-07T11:22:06.145046Z",
     "iopub.status.idle": "2023-05-07T11:22:06.158061Z",
     "shell.execute_reply": "2023-05-07T11:22:06.157313Z"
    },
    "papermill": {
     "duration": 0.030341,
     "end_time": "2023-05-07T11:22:06.160047",
     "exception": false,
     "start_time": "2023-05-07T11:22:06.129706",
     "status": "completed"
    },
    "tags": []
   },
   "outputs": [
    {
     "data": {
      "text/html": [
       "<div>\n",
       "<style scoped>\n",
       "    .dataframe tbody tr th:only-of-type {\n",
       "        vertical-align: middle;\n",
       "    }\n",
       "\n",
       "    .dataframe tbody tr th {\n",
       "        vertical-align: top;\n",
       "    }\n",
       "\n",
       "    .dataframe thead th {\n",
       "        text-align: right;\n",
       "    }\n",
       "</style>\n",
       "<table border=\"1\" class=\"dataframe\">\n",
       "  <thead>\n",
       "    <tr style=\"text-align: right;\">\n",
       "      <th></th>\n",
       "      <th>LON</th>\n",
       "      <th>LAT</th>\n",
       "      <th>NUMBER</th>\n",
       "      <th>STREET</th>\n",
       "      <th>UNIT</th>\n",
       "      <th>CITY</th>\n",
       "      <th>REGION</th>\n",
       "      <th>POSTCODE</th>\n",
       "    </tr>\n",
       "  </thead>\n",
       "  <tbody>\n",
       "    <tr>\n",
       "      <th>176130</th>\n",
       "      <td>149.040149</td>\n",
       "      <td>-35.321495</td>\n",
       "      <td>60</td>\n",
       "      <td>JOHN GORTON DRIVE</td>\n",
       "      <td>UNIT 39</td>\n",
       "      <td>COOMBS</td>\n",
       "      <td>ACT</td>\n",
       "      <td>2611.0</td>\n",
       "    </tr>\n",
       "    <tr>\n",
       "      <th>176132</th>\n",
       "      <td>149.040149</td>\n",
       "      <td>-35.321495</td>\n",
       "      <td>60</td>\n",
       "      <td>JOHN GORTON DRIVE</td>\n",
       "      <td>UNIT 17</td>\n",
       "      <td>COOMBS</td>\n",
       "      <td>ACT</td>\n",
       "      <td>2611.0</td>\n",
       "    </tr>\n",
       "    <tr>\n",
       "      <th>176135</th>\n",
       "      <td>140.349443</td>\n",
       "      <td>-37.598421</td>\n",
       "      <td>97</td>\n",
       "      <td>WILLIAMS ROAD</td>\n",
       "      <td>UNIT 5</td>\n",
       "      <td>MILLICENT</td>\n",
       "      <td>SA</td>\n",
       "      <td>5280.0</td>\n",
       "    </tr>\n",
       "    <tr>\n",
       "      <th>176136</th>\n",
       "      <td>149.083158</td>\n",
       "      <td>-35.415716</td>\n",
       "      <td>11</td>\n",
       "      <td>STEFFANONI CIRCUIT</td>\n",
       "      <td>UNIT 13</td>\n",
       "      <td>MONASH</td>\n",
       "      <td>ACT</td>\n",
       "      <td>2904.0</td>\n",
       "    </tr>\n",
       "    <tr>\n",
       "      <th>176137</th>\n",
       "      <td>138.623021</td>\n",
       "      <td>-35.552118</td>\n",
       "      <td>72-74</td>\n",
       "      <td>OCEAN STREET</td>\n",
       "      <td>UNIT 4</td>\n",
       "      <td>VICTOR HARBOR</td>\n",
       "      <td>SA</td>\n",
       "      <td>5211.0</td>\n",
       "    </tr>\n",
       "  </tbody>\n",
       "</table>\n",
       "</div>"
      ],
      "text/plain": [
       "               LON        LAT NUMBER              STREET     UNIT  \\\n",
       "176130  149.040149 -35.321495     60   JOHN GORTON DRIVE  UNIT 39   \n",
       "176132  149.040149 -35.321495     60   JOHN GORTON DRIVE  UNIT 17   \n",
       "176135  140.349443 -37.598421     97       WILLIAMS ROAD   UNIT 5   \n",
       "176136  149.083158 -35.415716     11  STEFFANONI CIRCUIT  UNIT 13   \n",
       "176137  138.623021 -35.552118  72-74        OCEAN STREET   UNIT 4   \n",
       "\n",
       "                 CITY REGION  POSTCODE  \n",
       "176130         COOMBS    ACT    2611.0  \n",
       "176132         COOMBS    ACT    2611.0  \n",
       "176135      MILLICENT     SA    5280.0  \n",
       "176136         MONASH    ACT    2904.0  \n",
       "176137  VICTOR HARBOR     SA    5211.0  "
      ]
     },
     "execution_count": 24,
     "metadata": {},
     "output_type": "execute_result"
    }
   ],
   "source": [
    "data.head()"
   ]
  },
  {
   "cell_type": "code",
   "execution_count": 25,
   "id": "7dbd44bd",
   "metadata": {
    "execution": {
     "iopub.execute_input": "2023-05-07T11:22:06.190053Z",
     "iopub.status.busy": "2023-05-07T11:22:06.189706Z",
     "iopub.status.idle": "2023-05-07T11:22:06.199595Z",
     "shell.execute_reply": "2023-05-07T11:22:06.198618Z"
    },
    "papermill": {
     "duration": 0.02739,
     "end_time": "2023-05-07T11:22:06.201831",
     "exception": false,
     "start_time": "2023-05-07T11:22:06.174441",
     "status": "completed"
    },
    "tags": []
   },
   "outputs": [
    {
     "name": "stdout",
     "output_type": "stream",
     "text": [
      "<class 'pandas.core.frame.DataFrame'>\n",
      "Int64Index: 4025371 entries, 176130 to 17205891\n",
      "Data columns (total 8 columns):\n",
      " #   Column    Dtype  \n",
      "---  ------    -----  \n",
      " 0   LON       float64\n",
      " 1   LAT       float64\n",
      " 2   NUMBER    object \n",
      " 3   STREET    object \n",
      " 4   UNIT      object \n",
      " 5   CITY      object \n",
      " 6   REGION    object \n",
      " 7   POSTCODE  float64\n",
      "dtypes: float64(3), object(5)\n",
      "memory usage: 276.4+ MB\n"
     ]
    }
   ],
   "source": [
    "data.info()"
   ]
  },
  {
   "cell_type": "code",
   "execution_count": 26,
   "id": "2aef8cc4",
   "metadata": {
    "execution": {
     "iopub.execute_input": "2023-05-07T11:22:06.232145Z",
     "iopub.status.busy": "2023-05-07T11:22:06.231455Z",
     "iopub.status.idle": "2023-05-07T11:22:06.601914Z",
     "shell.execute_reply": "2023-05-07T11:22:06.600793Z"
    },
    "papermill": {
     "duration": 0.387862,
     "end_time": "2023-05-07T11:22:06.603972",
     "exception": false,
     "start_time": "2023-05-07T11:22:06.216110",
     "status": "completed"
    },
    "tags": []
   },
   "outputs": [
    {
     "name": "stdout",
     "output_type": "stream",
     "text": [
      "NSW    1540462\n",
      "VIC     964884\n",
      "QLD     813554\n",
      "WA      320076\n",
      "SA      188958\n",
      "TAS      84733\n",
      "ACT      74335\n",
      "NT       37935\n",
      "OT         434\n",
      "Name: REGION, dtype: int64\n"
     ]
    }
   ],
   "source": [
    "# Count the number of occurrences of each unique value in the 'REGION' column of the 'data' dataframe\n",
    "data['REGION'].value_counts()\n",
    "\n",
    "# Print the results of the value_counts() method\n",
    "print(data['REGION'].value_counts())\n"
   ]
  },
  {
   "cell_type": "code",
   "execution_count": 27,
   "id": "f20d855c",
   "metadata": {
    "execution": {
     "iopub.execute_input": "2023-05-07T11:22:06.634059Z",
     "iopub.status.busy": "2023-05-07T11:22:06.633681Z",
     "iopub.status.idle": "2023-05-07T11:22:11.157086Z",
     "shell.execute_reply": "2023-05-07T11:22:11.155952Z"
    },
    "papermill": {
     "duration": 4.54136,
     "end_time": "2023-05-07T11:22:11.159542",
     "exception": false,
     "start_time": "2023-05-07T11:22:06.618182",
     "status": "completed"
    },
    "tags": []
   },
   "outputs": [],
   "source": [
    "# Drop duplicates based on all columns of the dataframe\n",
    "data.drop_duplicates(keep='first', subset=None, inplace=True)\n"
   ]
  },
  {
   "cell_type": "code",
   "execution_count": 28,
   "id": "2f232248",
   "metadata": {
    "execution": {
     "iopub.execute_input": "2023-05-07T11:22:11.190884Z",
     "iopub.status.busy": "2023-05-07T11:22:11.190043Z",
     "iopub.status.idle": "2023-05-07T11:22:11.196527Z",
     "shell.execute_reply": "2023-05-07T11:22:11.195556Z"
    },
    "papermill": {
     "duration": 0.024179,
     "end_time": "2023-05-07T11:22:11.198426",
     "exception": false,
     "start_time": "2023-05-07T11:22:11.174247",
     "status": "completed"
    },
    "tags": []
   },
   "outputs": [
    {
     "data": {
      "text/plain": [
       "(3913421, 8)"
      ]
     },
     "execution_count": 28,
     "metadata": {},
     "output_type": "execute_result"
    }
   ],
   "source": [
    "data.shape"
   ]
  },
  {
   "cell_type": "code",
   "execution_count": 29,
   "id": "47e65b99",
   "metadata": {
    "execution": {
     "iopub.execute_input": "2023-05-07T11:22:11.228677Z",
     "iopub.status.busy": "2023-05-07T11:22:11.228299Z",
     "iopub.status.idle": "2023-05-07T11:22:11.415375Z",
     "shell.execute_reply": "2023-05-07T11:22:11.414363Z"
    },
    "papermill": {
     "duration": 0.20462,
     "end_time": "2023-05-07T11:22:11.417356",
     "exception": false,
     "start_time": "2023-05-07T11:22:11.212736",
     "status": "completed"
    },
    "tags": []
   },
   "outputs": [
    {
     "data": {
      "text/plain": [
       "NSW    1525394\n",
       "VIC     908401\n",
       "QLD     809692\n",
       "WA      302125\n",
       "SA      187534\n",
       "ACT      73357\n",
       "TAS      68592\n",
       "NT       37924\n",
       "OT         402\n",
       "Name: REGION, dtype: int64"
      ]
     },
     "execution_count": 29,
     "metadata": {},
     "output_type": "execute_result"
    }
   ],
   "source": [
    "data['REGION'].value_counts()"
   ]
  },
  {
   "cell_type": "code",
   "execution_count": 30,
   "id": "fd63605e",
   "metadata": {
    "execution": {
     "iopub.execute_input": "2023-05-07T11:22:11.447980Z",
     "iopub.status.busy": "2023-05-07T11:22:11.447102Z",
     "iopub.status.idle": "2023-05-07T11:22:11.460908Z",
     "shell.execute_reply": "2023-05-07T11:22:11.459755Z"
    },
    "papermill": {
     "duration": 0.031542,
     "end_time": "2023-05-07T11:22:11.463184",
     "exception": false,
     "start_time": "2023-05-07T11:22:11.431642",
     "status": "completed"
    },
    "tags": []
   },
   "outputs": [
    {
     "data": {
      "text/html": [
       "<div>\n",
       "<style scoped>\n",
       "    .dataframe tbody tr th:only-of-type {\n",
       "        vertical-align: middle;\n",
       "    }\n",
       "\n",
       "    .dataframe tbody tr th {\n",
       "        vertical-align: top;\n",
       "    }\n",
       "\n",
       "    .dataframe thead th {\n",
       "        text-align: right;\n",
       "    }\n",
       "</style>\n",
       "<table border=\"1\" class=\"dataframe\">\n",
       "  <thead>\n",
       "    <tr style=\"text-align: right;\">\n",
       "      <th></th>\n",
       "      <th>LON</th>\n",
       "      <th>LAT</th>\n",
       "      <th>NUMBER</th>\n",
       "      <th>STREET</th>\n",
       "      <th>UNIT</th>\n",
       "      <th>CITY</th>\n",
       "      <th>REGION</th>\n",
       "      <th>POSTCODE</th>\n",
       "    </tr>\n",
       "  </thead>\n",
       "  <tbody>\n",
       "    <tr>\n",
       "      <th>176130</th>\n",
       "      <td>149.040149</td>\n",
       "      <td>-35.321495</td>\n",
       "      <td>60</td>\n",
       "      <td>JOHN GORTON DRIVE</td>\n",
       "      <td>UNIT 39</td>\n",
       "      <td>COOMBS</td>\n",
       "      <td>ACT</td>\n",
       "      <td>2611.0</td>\n",
       "    </tr>\n",
       "    <tr>\n",
       "      <th>176132</th>\n",
       "      <td>149.040149</td>\n",
       "      <td>-35.321495</td>\n",
       "      <td>60</td>\n",
       "      <td>JOHN GORTON DRIVE</td>\n",
       "      <td>UNIT 17</td>\n",
       "      <td>COOMBS</td>\n",
       "      <td>ACT</td>\n",
       "      <td>2611.0</td>\n",
       "    </tr>\n",
       "    <tr>\n",
       "      <th>176135</th>\n",
       "      <td>140.349443</td>\n",
       "      <td>-37.598421</td>\n",
       "      <td>97</td>\n",
       "      <td>WILLIAMS ROAD</td>\n",
       "      <td>UNIT 5</td>\n",
       "      <td>MILLICENT</td>\n",
       "      <td>SA</td>\n",
       "      <td>5280.0</td>\n",
       "    </tr>\n",
       "    <tr>\n",
       "      <th>176136</th>\n",
       "      <td>149.083158</td>\n",
       "      <td>-35.415716</td>\n",
       "      <td>11</td>\n",
       "      <td>STEFFANONI CIRCUIT</td>\n",
       "      <td>UNIT 13</td>\n",
       "      <td>MONASH</td>\n",
       "      <td>ACT</td>\n",
       "      <td>2904.0</td>\n",
       "    </tr>\n",
       "    <tr>\n",
       "      <th>176137</th>\n",
       "      <td>138.623021</td>\n",
       "      <td>-35.552118</td>\n",
       "      <td>72-74</td>\n",
       "      <td>OCEAN STREET</td>\n",
       "      <td>UNIT 4</td>\n",
       "      <td>VICTOR HARBOR</td>\n",
       "      <td>SA</td>\n",
       "      <td>5211.0</td>\n",
       "    </tr>\n",
       "  </tbody>\n",
       "</table>\n",
       "</div>"
      ],
      "text/plain": [
       "               LON        LAT NUMBER              STREET     UNIT  \\\n",
       "176130  149.040149 -35.321495     60   JOHN GORTON DRIVE  UNIT 39   \n",
       "176132  149.040149 -35.321495     60   JOHN GORTON DRIVE  UNIT 17   \n",
       "176135  140.349443 -37.598421     97       WILLIAMS ROAD   UNIT 5   \n",
       "176136  149.083158 -35.415716     11  STEFFANONI CIRCUIT  UNIT 13   \n",
       "176137  138.623021 -35.552118  72-74        OCEAN STREET   UNIT 4   \n",
       "\n",
       "                 CITY REGION  POSTCODE  \n",
       "176130         COOMBS    ACT    2611.0  \n",
       "176132         COOMBS    ACT    2611.0  \n",
       "176135      MILLICENT     SA    5280.0  \n",
       "176136         MONASH    ACT    2904.0  \n",
       "176137  VICTOR HARBOR     SA    5211.0  "
      ]
     },
     "execution_count": 30,
     "metadata": {},
     "output_type": "execute_result"
    }
   ],
   "source": [
    "data.head()"
   ]
  },
  {
   "cell_type": "code",
   "execution_count": 31,
   "id": "dbc3d117",
   "metadata": {
    "execution": {
     "iopub.execute_input": "2023-05-07T11:22:11.495239Z",
     "iopub.status.busy": "2023-05-07T11:22:11.494869Z",
     "iopub.status.idle": "2023-05-07T11:22:12.610955Z",
     "shell.execute_reply": "2023-05-07T11:22:12.609893Z"
    },
    "papermill": {
     "duration": 1.134839,
     "end_time": "2023-05-07T11:22:12.613366",
     "exception": false,
     "start_time": "2023-05-07T11:22:11.478527",
     "status": "completed"
    },
    "tags": []
   },
   "outputs": [],
   "source": [
    "# Drop duplicates based on columns 'NUMBER' and 'STREET'\n",
    "data.drop_duplicates(subset=['NUMBER', 'STREET'], keep='first', inplace=True)"
   ]
  },
  {
   "cell_type": "code",
   "execution_count": 32,
   "id": "d91e7c9d",
   "metadata": {
    "execution": {
     "iopub.execute_input": "2023-05-07T11:22:12.644897Z",
     "iopub.status.busy": "2023-05-07T11:22:12.644523Z",
     "iopub.status.idle": "2023-05-07T11:22:12.650383Z",
     "shell.execute_reply": "2023-05-07T11:22:12.649353Z"
    },
    "papermill": {
     "duration": 0.023819,
     "end_time": "2023-05-07T11:22:12.652353",
     "exception": false,
     "start_time": "2023-05-07T11:22:12.628534",
     "status": "completed"
    },
    "tags": []
   },
   "outputs": [
    {
     "data": {
      "text/plain": [
       "(441795, 8)"
      ]
     },
     "execution_count": 32,
     "metadata": {},
     "output_type": "execute_result"
    }
   ],
   "source": [
    "data.shape"
   ]
  },
  {
   "cell_type": "code",
   "execution_count": 33,
   "id": "e82e55c8",
   "metadata": {
    "execution": {
     "iopub.execute_input": "2023-05-07T11:22:12.684014Z",
     "iopub.status.busy": "2023-05-07T11:22:12.683666Z",
     "iopub.status.idle": "2023-05-07T11:22:12.696849Z",
     "shell.execute_reply": "2023-05-07T11:22:12.695897Z"
    },
    "papermill": {
     "duration": 0.031638,
     "end_time": "2023-05-07T11:22:12.698710",
     "exception": false,
     "start_time": "2023-05-07T11:22:12.667072",
     "status": "completed"
    },
    "tags": []
   },
   "outputs": [
    {
     "data": {
      "text/html": [
       "<div>\n",
       "<style scoped>\n",
       "    .dataframe tbody tr th:only-of-type {\n",
       "        vertical-align: middle;\n",
       "    }\n",
       "\n",
       "    .dataframe tbody tr th {\n",
       "        vertical-align: top;\n",
       "    }\n",
       "\n",
       "    .dataframe thead th {\n",
       "        text-align: right;\n",
       "    }\n",
       "</style>\n",
       "<table border=\"1\" class=\"dataframe\">\n",
       "  <thead>\n",
       "    <tr style=\"text-align: right;\">\n",
       "      <th></th>\n",
       "      <th>LON</th>\n",
       "      <th>LAT</th>\n",
       "      <th>NUMBER</th>\n",
       "      <th>STREET</th>\n",
       "      <th>UNIT</th>\n",
       "      <th>CITY</th>\n",
       "      <th>REGION</th>\n",
       "      <th>POSTCODE</th>\n",
       "    </tr>\n",
       "  </thead>\n",
       "  <tbody>\n",
       "    <tr>\n",
       "      <th>176130</th>\n",
       "      <td>149.040149</td>\n",
       "      <td>-35.321495</td>\n",
       "      <td>60</td>\n",
       "      <td>JOHN GORTON DRIVE</td>\n",
       "      <td>UNIT 39</td>\n",
       "      <td>COOMBS</td>\n",
       "      <td>ACT</td>\n",
       "      <td>2611.0</td>\n",
       "    </tr>\n",
       "    <tr>\n",
       "      <th>176135</th>\n",
       "      <td>140.349443</td>\n",
       "      <td>-37.598421</td>\n",
       "      <td>97</td>\n",
       "      <td>WILLIAMS ROAD</td>\n",
       "      <td>UNIT 5</td>\n",
       "      <td>MILLICENT</td>\n",
       "      <td>SA</td>\n",
       "      <td>5280.0</td>\n",
       "    </tr>\n",
       "    <tr>\n",
       "      <th>176136</th>\n",
       "      <td>149.083158</td>\n",
       "      <td>-35.415716</td>\n",
       "      <td>11</td>\n",
       "      <td>STEFFANONI CIRCUIT</td>\n",
       "      <td>UNIT 13</td>\n",
       "      <td>MONASH</td>\n",
       "      <td>ACT</td>\n",
       "      <td>2904.0</td>\n",
       "    </tr>\n",
       "    <tr>\n",
       "      <th>176137</th>\n",
       "      <td>138.623021</td>\n",
       "      <td>-35.552118</td>\n",
       "      <td>72-74</td>\n",
       "      <td>OCEAN STREET</td>\n",
       "      <td>UNIT 4</td>\n",
       "      <td>VICTOR HARBOR</td>\n",
       "      <td>SA</td>\n",
       "      <td>5211.0</td>\n",
       "    </tr>\n",
       "    <tr>\n",
       "      <th>176138</th>\n",
       "      <td>149.064437</td>\n",
       "      <td>-35.258771</td>\n",
       "      <td>27</td>\n",
       "      <td>LYTTLETON CRESCENT</td>\n",
       "      <td>UNIT 3</td>\n",
       "      <td>COOK</td>\n",
       "      <td>ACT</td>\n",
       "      <td>2614.0</td>\n",
       "    </tr>\n",
       "  </tbody>\n",
       "</table>\n",
       "</div>"
      ],
      "text/plain": [
       "               LON        LAT NUMBER              STREET     UNIT  \\\n",
       "176130  149.040149 -35.321495     60   JOHN GORTON DRIVE  UNIT 39   \n",
       "176135  140.349443 -37.598421     97       WILLIAMS ROAD   UNIT 5   \n",
       "176136  149.083158 -35.415716     11  STEFFANONI CIRCUIT  UNIT 13   \n",
       "176137  138.623021 -35.552118  72-74        OCEAN STREET   UNIT 4   \n",
       "176138  149.064437 -35.258771     27  LYTTLETON CRESCENT   UNIT 3   \n",
       "\n",
       "                 CITY REGION  POSTCODE  \n",
       "176130         COOMBS    ACT    2611.0  \n",
       "176135      MILLICENT     SA    5280.0  \n",
       "176136         MONASH    ACT    2904.0  \n",
       "176137  VICTOR HARBOR     SA    5211.0  \n",
       "176138           COOK    ACT    2614.0  "
      ]
     },
     "execution_count": 33,
     "metadata": {},
     "output_type": "execute_result"
    }
   ],
   "source": [
    "data.head()"
   ]
  },
  {
   "cell_type": "code",
   "execution_count": 34,
   "id": "9688b58d",
   "metadata": {
    "execution": {
     "iopub.execute_input": "2023-05-07T11:22:12.730662Z",
     "iopub.status.busy": "2023-05-07T11:22:12.730261Z",
     "iopub.status.idle": "2023-05-07T11:22:12.757828Z",
     "shell.execute_reply": "2023-05-07T11:22:12.757027Z"
    },
    "papermill": {
     "duration": 0.046344,
     "end_time": "2023-05-07T11:22:12.759947",
     "exception": false,
     "start_time": "2023-05-07T11:22:12.713603",
     "status": "completed"
    },
    "tags": []
   },
   "outputs": [
    {
     "data": {
      "text/plain": [
       "NSW    148088\n",
       "VIC    124080\n",
       "QLD     85141\n",
       "WA      32552\n",
       "SA      29981\n",
       "TAS     12135\n",
       "ACT      5522\n",
       "NT       4235\n",
       "OT         61\n",
       "Name: REGION, dtype: int64"
      ]
     },
     "execution_count": 34,
     "metadata": {},
     "output_type": "execute_result"
    }
   ],
   "source": [
    "data['REGION'].value_counts()"
   ]
  },
  {
   "cell_type": "code",
   "execution_count": 35,
   "id": "fae50cd9",
   "metadata": {
    "execution": {
     "iopub.execute_input": "2023-05-07T11:22:12.791942Z",
     "iopub.status.busy": "2023-05-07T11:22:12.791548Z",
     "iopub.status.idle": "2023-05-07T11:22:12.798178Z",
     "shell.execute_reply": "2023-05-07T11:22:12.797228Z"
    },
    "papermill": {
     "duration": 0.025082,
     "end_time": "2023-05-07T11:22:12.800209",
     "exception": false,
     "start_time": "2023-05-07T11:22:12.775127",
     "status": "completed"
    },
    "tags": []
   },
   "outputs": [
    {
     "data": {
      "text/plain": [
       "(441795, 8)"
      ]
     },
     "execution_count": 35,
     "metadata": {},
     "output_type": "execute_result"
    }
   ],
   "source": [
    "data.shape"
   ]
  },
  {
   "cell_type": "code",
   "execution_count": 36,
   "id": "01f25920",
   "metadata": {
    "execution": {
     "iopub.execute_input": "2023-05-07T11:22:12.832781Z",
     "iopub.status.busy": "2023-05-07T11:22:12.832393Z",
     "iopub.status.idle": "2023-05-07T11:22:12.883585Z",
     "shell.execute_reply": "2023-05-07T11:22:12.882727Z"
    },
    "papermill": {
     "duration": 0.070529,
     "end_time": "2023-05-07T11:22:12.885982",
     "exception": false,
     "start_time": "2023-05-07T11:22:12.815453",
     "status": "completed"
    },
    "tags": []
   },
   "outputs": [],
   "source": [
    "# Remove rows where the 'REGION' column has the value 'OT'\n",
    "data = data[~data.REGION.isin(['OT'])]\n"
   ]
  },
  {
   "cell_type": "code",
   "execution_count": 37,
   "id": "132e49ec",
   "metadata": {
    "execution": {
     "iopub.execute_input": "2023-05-07T11:22:12.919328Z",
     "iopub.status.busy": "2023-05-07T11:22:12.918984Z",
     "iopub.status.idle": "2023-05-07T11:22:12.924843Z",
     "shell.execute_reply": "2023-05-07T11:22:12.923971Z"
    },
    "papermill": {
     "duration": 0.024979,
     "end_time": "2023-05-07T11:22:12.926849",
     "exception": false,
     "start_time": "2023-05-07T11:22:12.901870",
     "status": "completed"
    },
    "tags": []
   },
   "outputs": [
    {
     "data": {
      "text/plain": [
       "(441734, 8)"
      ]
     },
     "execution_count": 37,
     "metadata": {},
     "output_type": "execute_result"
    }
   ],
   "source": [
    "data.shape"
   ]
  },
  {
   "cell_type": "code",
   "execution_count": 38,
   "id": "812538d1",
   "metadata": {
    "execution": {
     "iopub.execute_input": "2023-05-07T11:22:12.959434Z",
     "iopub.status.busy": "2023-05-07T11:22:12.958829Z",
     "iopub.status.idle": "2023-05-07T11:22:12.973080Z",
     "shell.execute_reply": "2023-05-07T11:22:12.972087Z"
    },
    "papermill": {
     "duration": 0.033077,
     "end_time": "2023-05-07T11:22:12.975306",
     "exception": false,
     "start_time": "2023-05-07T11:22:12.942229",
     "status": "completed"
    },
    "tags": []
   },
   "outputs": [
    {
     "data": {
      "text/html": [
       "<div>\n",
       "<style scoped>\n",
       "    .dataframe tbody tr th:only-of-type {\n",
       "        vertical-align: middle;\n",
       "    }\n",
       "\n",
       "    .dataframe tbody tr th {\n",
       "        vertical-align: top;\n",
       "    }\n",
       "\n",
       "    .dataframe thead th {\n",
       "        text-align: right;\n",
       "    }\n",
       "</style>\n",
       "<table border=\"1\" class=\"dataframe\">\n",
       "  <thead>\n",
       "    <tr style=\"text-align: right;\">\n",
       "      <th></th>\n",
       "      <th>LON</th>\n",
       "      <th>LAT</th>\n",
       "      <th>NUMBER</th>\n",
       "      <th>STREET</th>\n",
       "      <th>UNIT</th>\n",
       "      <th>CITY</th>\n",
       "      <th>REGION</th>\n",
       "      <th>POSTCODE</th>\n",
       "    </tr>\n",
       "  </thead>\n",
       "  <tbody>\n",
       "    <tr>\n",
       "      <th>176130</th>\n",
       "      <td>149.040149</td>\n",
       "      <td>-35.321495</td>\n",
       "      <td>60</td>\n",
       "      <td>JOHN GORTON DRIVE</td>\n",
       "      <td>UNIT 39</td>\n",
       "      <td>COOMBS</td>\n",
       "      <td>ACT</td>\n",
       "      <td>2611.0</td>\n",
       "    </tr>\n",
       "    <tr>\n",
       "      <th>176135</th>\n",
       "      <td>140.349443</td>\n",
       "      <td>-37.598421</td>\n",
       "      <td>97</td>\n",
       "      <td>WILLIAMS ROAD</td>\n",
       "      <td>UNIT 5</td>\n",
       "      <td>MILLICENT</td>\n",
       "      <td>SA</td>\n",
       "      <td>5280.0</td>\n",
       "    </tr>\n",
       "    <tr>\n",
       "      <th>176136</th>\n",
       "      <td>149.083158</td>\n",
       "      <td>-35.415716</td>\n",
       "      <td>11</td>\n",
       "      <td>STEFFANONI CIRCUIT</td>\n",
       "      <td>UNIT 13</td>\n",
       "      <td>MONASH</td>\n",
       "      <td>ACT</td>\n",
       "      <td>2904.0</td>\n",
       "    </tr>\n",
       "    <tr>\n",
       "      <th>176137</th>\n",
       "      <td>138.623021</td>\n",
       "      <td>-35.552118</td>\n",
       "      <td>72-74</td>\n",
       "      <td>OCEAN STREET</td>\n",
       "      <td>UNIT 4</td>\n",
       "      <td>VICTOR HARBOR</td>\n",
       "      <td>SA</td>\n",
       "      <td>5211.0</td>\n",
       "    </tr>\n",
       "    <tr>\n",
       "      <th>176138</th>\n",
       "      <td>149.064437</td>\n",
       "      <td>-35.258771</td>\n",
       "      <td>27</td>\n",
       "      <td>LYTTLETON CRESCENT</td>\n",
       "      <td>UNIT 3</td>\n",
       "      <td>COOK</td>\n",
       "      <td>ACT</td>\n",
       "      <td>2614.0</td>\n",
       "    </tr>\n",
       "  </tbody>\n",
       "</table>\n",
       "</div>"
      ],
      "text/plain": [
       "               LON        LAT NUMBER              STREET     UNIT  \\\n",
       "176130  149.040149 -35.321495     60   JOHN GORTON DRIVE  UNIT 39   \n",
       "176135  140.349443 -37.598421     97       WILLIAMS ROAD   UNIT 5   \n",
       "176136  149.083158 -35.415716     11  STEFFANONI CIRCUIT  UNIT 13   \n",
       "176137  138.623021 -35.552118  72-74        OCEAN STREET   UNIT 4   \n",
       "176138  149.064437 -35.258771     27  LYTTLETON CRESCENT   UNIT 3   \n",
       "\n",
       "                 CITY REGION  POSTCODE  \n",
       "176130         COOMBS    ACT    2611.0  \n",
       "176135      MILLICENT     SA    5280.0  \n",
       "176136         MONASH    ACT    2904.0  \n",
       "176137  VICTOR HARBOR     SA    5211.0  \n",
       "176138           COOK    ACT    2614.0  "
      ]
     },
     "execution_count": 38,
     "metadata": {},
     "output_type": "execute_result"
    }
   ],
   "source": [
    "data.head()"
   ]
  },
  {
   "cell_type": "code",
   "execution_count": 39,
   "id": "17bb06f9",
   "metadata": {
    "execution": {
     "iopub.execute_input": "2023-05-07T11:22:13.009174Z",
     "iopub.status.busy": "2023-05-07T11:22:13.008188Z",
     "iopub.status.idle": "2023-05-07T11:22:13.049058Z",
     "shell.execute_reply": "2023-05-07T11:22:13.047963Z"
    },
    "papermill": {
     "duration": 0.059874,
     "end_time": "2023-05-07T11:22:13.051434",
     "exception": false,
     "start_time": "2023-05-07T11:22:12.991560",
     "status": "completed"
    },
    "tags": []
   },
   "outputs": [],
   "source": [
    "new_col=['UNIT','NUMBER','STREET','CITY','REGION','POSTCODE','LAT','LON']\n",
    "data=data[new_col]"
   ]
  },
  {
   "cell_type": "code",
   "execution_count": 40,
   "id": "e144809e",
   "metadata": {
    "execution": {
     "iopub.execute_input": "2023-05-07T11:22:13.084572Z",
     "iopub.status.busy": "2023-05-07T11:22:13.084189Z",
     "iopub.status.idle": "2023-05-07T11:22:13.089542Z",
     "shell.execute_reply": "2023-05-07T11:22:13.088807Z"
    },
    "papermill": {
     "duration": 0.023952,
     "end_time": "2023-05-07T11:22:13.091244",
     "exception": false,
     "start_time": "2023-05-07T11:22:13.067292",
     "status": "completed"
    },
    "tags": []
   },
   "outputs": [],
   "source": [
    "data.reset_index(inplace=True)"
   ]
  },
  {
   "cell_type": "code",
   "execution_count": 41,
   "id": "acb34448",
   "metadata": {
    "execution": {
     "iopub.execute_input": "2023-05-07T11:22:13.123822Z",
     "iopub.status.busy": "2023-05-07T11:22:13.123420Z",
     "iopub.status.idle": "2023-05-07T11:22:13.140239Z",
     "shell.execute_reply": "2023-05-07T11:22:13.139330Z"
    },
    "papermill": {
     "duration": 0.035466,
     "end_time": "2023-05-07T11:22:13.142269",
     "exception": false,
     "start_time": "2023-05-07T11:22:13.106803",
     "status": "completed"
    },
    "tags": []
   },
   "outputs": [
    {
     "data": {
      "text/html": [
       "<div>\n",
       "<style scoped>\n",
       "    .dataframe tbody tr th:only-of-type {\n",
       "        vertical-align: middle;\n",
       "    }\n",
       "\n",
       "    .dataframe tbody tr th {\n",
       "        vertical-align: top;\n",
       "    }\n",
       "\n",
       "    .dataframe thead th {\n",
       "        text-align: right;\n",
       "    }\n",
       "</style>\n",
       "<table border=\"1\" class=\"dataframe\">\n",
       "  <thead>\n",
       "    <tr style=\"text-align: right;\">\n",
       "      <th></th>\n",
       "      <th>index</th>\n",
       "      <th>UNIT</th>\n",
       "      <th>NUMBER</th>\n",
       "      <th>STREET</th>\n",
       "      <th>CITY</th>\n",
       "      <th>REGION</th>\n",
       "      <th>POSTCODE</th>\n",
       "      <th>LAT</th>\n",
       "      <th>LON</th>\n",
       "    </tr>\n",
       "  </thead>\n",
       "  <tbody>\n",
       "    <tr>\n",
       "      <th>0</th>\n",
       "      <td>176130</td>\n",
       "      <td>UNIT 39</td>\n",
       "      <td>60</td>\n",
       "      <td>JOHN GORTON DRIVE</td>\n",
       "      <td>COOMBS</td>\n",
       "      <td>ACT</td>\n",
       "      <td>2611.0</td>\n",
       "      <td>-35.321495</td>\n",
       "      <td>149.040149</td>\n",
       "    </tr>\n",
       "    <tr>\n",
       "      <th>1</th>\n",
       "      <td>176135</td>\n",
       "      <td>UNIT 5</td>\n",
       "      <td>97</td>\n",
       "      <td>WILLIAMS ROAD</td>\n",
       "      <td>MILLICENT</td>\n",
       "      <td>SA</td>\n",
       "      <td>5280.0</td>\n",
       "      <td>-37.598421</td>\n",
       "      <td>140.349443</td>\n",
       "    </tr>\n",
       "    <tr>\n",
       "      <th>2</th>\n",
       "      <td>176136</td>\n",
       "      <td>UNIT 13</td>\n",
       "      <td>11</td>\n",
       "      <td>STEFFANONI CIRCUIT</td>\n",
       "      <td>MONASH</td>\n",
       "      <td>ACT</td>\n",
       "      <td>2904.0</td>\n",
       "      <td>-35.415716</td>\n",
       "      <td>149.083158</td>\n",
       "    </tr>\n",
       "    <tr>\n",
       "      <th>3</th>\n",
       "      <td>176137</td>\n",
       "      <td>UNIT 4</td>\n",
       "      <td>72-74</td>\n",
       "      <td>OCEAN STREET</td>\n",
       "      <td>VICTOR HARBOR</td>\n",
       "      <td>SA</td>\n",
       "      <td>5211.0</td>\n",
       "      <td>-35.552118</td>\n",
       "      <td>138.623021</td>\n",
       "    </tr>\n",
       "    <tr>\n",
       "      <th>4</th>\n",
       "      <td>176138</td>\n",
       "      <td>UNIT 3</td>\n",
       "      <td>27</td>\n",
       "      <td>LYTTLETON CRESCENT</td>\n",
       "      <td>COOK</td>\n",
       "      <td>ACT</td>\n",
       "      <td>2614.0</td>\n",
       "      <td>-35.258771</td>\n",
       "      <td>149.064437</td>\n",
       "    </tr>\n",
       "    <tr>\n",
       "      <th>...</th>\n",
       "      <td>...</td>\n",
       "      <td>...</td>\n",
       "      <td>...</td>\n",
       "      <td>...</td>\n",
       "      <td>...</td>\n",
       "      <td>...</td>\n",
       "      <td>...</td>\n",
       "      <td>...</td>\n",
       "      <td>...</td>\n",
       "    </tr>\n",
       "    <tr>\n",
       "      <th>441729</th>\n",
       "      <td>17205674</td>\n",
       "      <td>UNIT 1</td>\n",
       "      <td>703</td>\n",
       "      <td>WEST TAMAR</td>\n",
       "      <td>LEGANA</td>\n",
       "      <td>TAS</td>\n",
       "      <td>7277.0</td>\n",
       "      <td>-41.378890</td>\n",
       "      <td>147.058006</td>\n",
       "    </tr>\n",
       "    <tr>\n",
       "      <th>441730</th>\n",
       "      <td>17205678</td>\n",
       "      <td>UNIT 1</td>\n",
       "      <td>27</td>\n",
       "      <td>RIVERBANK PLACE</td>\n",
       "      <td>RIVERSIDE</td>\n",
       "      <td>TAS</td>\n",
       "      <td>7250.0</td>\n",
       "      <td>-41.400033</td>\n",
       "      <td>147.088151</td>\n",
       "    </tr>\n",
       "    <tr>\n",
       "      <th>441731</th>\n",
       "      <td>17205765</td>\n",
       "      <td>UNIT 11</td>\n",
       "      <td>82</td>\n",
       "      <td>WARING STREET</td>\n",
       "      <td>RAVENSWOOD</td>\n",
       "      <td>TAS</td>\n",
       "      <td>7250.0</td>\n",
       "      <td>-41.409678</td>\n",
       "      <td>147.166719</td>\n",
       "    </tr>\n",
       "    <tr>\n",
       "      <th>441732</th>\n",
       "      <td>17205769</td>\n",
       "      <td>UNI</td>\n",
       "      <td>2</td>\n",
       "      <td>WESTRINGIA COURT</td>\n",
       "      <td>ROCHERLEA</td>\n",
       "      <td>TAS</td>\n",
       "      <td>7248.0</td>\n",
       "      <td>-41.377457</td>\n",
       "      <td>147.135171</td>\n",
       "    </tr>\n",
       "    <tr>\n",
       "      <th>441733</th>\n",
       "      <td>17205786</td>\n",
       "      <td>UNIT 1</td>\n",
       "      <td>17</td>\n",
       "      <td>BLACKWOOD</td>\n",
       "      <td>ROCHERLEA</td>\n",
       "      <td>TAS</td>\n",
       "      <td>7248.0</td>\n",
       "      <td>-41.376090</td>\n",
       "      <td>147.137768</td>\n",
       "    </tr>\n",
       "  </tbody>\n",
       "</table>\n",
       "<p>441734 rows × 9 columns</p>\n",
       "</div>"
      ],
      "text/plain": [
       "           index     UNIT NUMBER              STREET           CITY REGION  \\\n",
       "0         176130  UNIT 39     60   JOHN GORTON DRIVE         COOMBS    ACT   \n",
       "1         176135   UNIT 5     97       WILLIAMS ROAD      MILLICENT     SA   \n",
       "2         176136  UNIT 13     11  STEFFANONI CIRCUIT         MONASH    ACT   \n",
       "3         176137   UNIT 4  72-74        OCEAN STREET  VICTOR HARBOR     SA   \n",
       "4         176138   UNIT 3     27  LYTTLETON CRESCENT           COOK    ACT   \n",
       "...          ...      ...    ...                 ...            ...    ...   \n",
       "441729  17205674   UNIT 1    703          WEST TAMAR         LEGANA    TAS   \n",
       "441730  17205678   UNIT 1     27     RIVERBANK PLACE      RIVERSIDE    TAS   \n",
       "441731  17205765  UNIT 11     82       WARING STREET     RAVENSWOOD    TAS   \n",
       "441732  17205769      UNI      2    WESTRINGIA COURT      ROCHERLEA    TAS   \n",
       "441733  17205786   UNIT 1     17           BLACKWOOD      ROCHERLEA    TAS   \n",
       "\n",
       "        POSTCODE        LAT         LON  \n",
       "0         2611.0 -35.321495  149.040149  \n",
       "1         5280.0 -37.598421  140.349443  \n",
       "2         2904.0 -35.415716  149.083158  \n",
       "3         5211.0 -35.552118  138.623021  \n",
       "4         2614.0 -35.258771  149.064437  \n",
       "...          ...        ...         ...  \n",
       "441729    7277.0 -41.378890  147.058006  \n",
       "441730    7250.0 -41.400033  147.088151  \n",
       "441731    7250.0 -41.409678  147.166719  \n",
       "441732    7248.0 -41.377457  147.135171  \n",
       "441733    7248.0 -41.376090  147.137768  \n",
       "\n",
       "[441734 rows x 9 columns]"
      ]
     },
     "execution_count": 41,
     "metadata": {},
     "output_type": "execute_result"
    }
   ],
   "source": [
    "data"
   ]
  },
  {
   "cell_type": "code",
   "execution_count": 42,
   "id": "60fbd64e",
   "metadata": {
    "execution": {
     "iopub.execute_input": "2023-05-07T11:22:13.175257Z",
     "iopub.status.busy": "2023-05-07T11:22:13.174901Z",
     "iopub.status.idle": "2023-05-07T11:22:13.224447Z",
     "shell.execute_reply": "2023-05-07T11:22:13.223438Z"
    },
    "papermill": {
     "duration": 0.068917,
     "end_time": "2023-05-07T11:22:13.226859",
     "exception": false,
     "start_time": "2023-05-07T11:22:13.157942",
     "status": "completed"
    },
    "tags": []
   },
   "outputs": [],
   "source": [
    "data.drop('index',axis=1,inplace=True)"
   ]
  },
  {
   "cell_type": "code",
   "execution_count": 43,
   "id": "7930d52e",
   "metadata": {
    "execution": {
     "iopub.execute_input": "2023-05-07T11:22:13.259957Z",
     "iopub.status.busy": "2023-05-07T11:22:13.259608Z",
     "iopub.status.idle": "2023-05-07T11:22:13.285368Z",
     "shell.execute_reply": "2023-05-07T11:22:13.284299Z"
    },
    "papermill": {
     "duration": 0.045044,
     "end_time": "2023-05-07T11:22:13.287674",
     "exception": false,
     "start_time": "2023-05-07T11:22:13.242630",
     "status": "completed"
    },
    "tags": []
   },
   "outputs": [
    {
     "data": {
      "text/html": [
       "<div>\n",
       "<style scoped>\n",
       "    .dataframe tbody tr th:only-of-type {\n",
       "        vertical-align: middle;\n",
       "    }\n",
       "\n",
       "    .dataframe tbody tr th {\n",
       "        vertical-align: top;\n",
       "    }\n",
       "\n",
       "    .dataframe thead th {\n",
       "        text-align: right;\n",
       "    }\n",
       "</style>\n",
       "<table border=\"1\" class=\"dataframe\">\n",
       "  <thead>\n",
       "    <tr style=\"text-align: right;\">\n",
       "      <th></th>\n",
       "      <th>UNIT</th>\n",
       "      <th>NUMBER</th>\n",
       "      <th>STREET</th>\n",
       "      <th>CITY</th>\n",
       "      <th>REGION</th>\n",
       "      <th>POSTCODE</th>\n",
       "      <th>LAT</th>\n",
       "      <th>LON</th>\n",
       "    </tr>\n",
       "  </thead>\n",
       "  <tbody>\n",
       "    <tr>\n",
       "      <th>277379</th>\n",
       "      <td>UNIT 9</td>\n",
       "      <td>744</td>\n",
       "      <td>NEW SOUTH HEAD ROAD</td>\n",
       "      <td>ROSE BAY</td>\n",
       "      <td>NSW</td>\n",
       "      <td>2029.0</td>\n",
       "      <td>-33.868612</td>\n",
       "      <td>151.269875</td>\n",
       "    </tr>\n",
       "  </tbody>\n",
       "</table>\n",
       "</div>"
      ],
      "text/plain": [
       "          UNIT NUMBER               STREET      CITY REGION  POSTCODE  \\\n",
       "277379  UNIT 9    744  NEW SOUTH HEAD ROAD  ROSE BAY    NSW    2029.0   \n",
       "\n",
       "              LAT         LON  \n",
       "277379 -33.868612  151.269875  "
      ]
     },
     "execution_count": 43,
     "metadata": {},
     "output_type": "execute_result"
    }
   ],
   "source": [
    "data.sample()"
   ]
  },
  {
   "cell_type": "code",
   "execution_count": 44,
   "id": "d7078fcc",
   "metadata": {
    "execution": {
     "iopub.execute_input": "2023-05-07T11:22:13.321290Z",
     "iopub.status.busy": "2023-05-07T11:22:13.320925Z",
     "iopub.status.idle": "2023-05-07T11:22:13.325893Z",
     "shell.execute_reply": "2023-05-07T11:22:13.324835Z"
    },
    "papermill": {
     "duration": 0.024044,
     "end_time": "2023-05-07T11:22:13.327791",
     "exception": false,
     "start_time": "2023-05-07T11:22:13.303747",
     "status": "completed"
    },
    "tags": []
   },
   "outputs": [],
   "source": [
    "data.columns=data.columns.str.lower()"
   ]
  },
  {
   "cell_type": "code",
   "execution_count": 45,
   "id": "d2d5be21",
   "metadata": {
    "execution": {
     "iopub.execute_input": "2023-05-07T11:22:13.361560Z",
     "iopub.status.busy": "2023-05-07T11:22:13.360553Z",
     "iopub.status.idle": "2023-05-07T11:22:13.375795Z",
     "shell.execute_reply": "2023-05-07T11:22:13.374933Z"
    },
    "papermill": {
     "duration": 0.033975,
     "end_time": "2023-05-07T11:22:13.377623",
     "exception": false,
     "start_time": "2023-05-07T11:22:13.343648",
     "status": "completed"
    },
    "tags": []
   },
   "outputs": [
    {
     "data": {
      "text/html": [
       "<div>\n",
       "<style scoped>\n",
       "    .dataframe tbody tr th:only-of-type {\n",
       "        vertical-align: middle;\n",
       "    }\n",
       "\n",
       "    .dataframe tbody tr th {\n",
       "        vertical-align: top;\n",
       "    }\n",
       "\n",
       "    .dataframe thead th {\n",
       "        text-align: right;\n",
       "    }\n",
       "</style>\n",
       "<table border=\"1\" class=\"dataframe\">\n",
       "  <thead>\n",
       "    <tr style=\"text-align: right;\">\n",
       "      <th></th>\n",
       "      <th>unit</th>\n",
       "      <th>number</th>\n",
       "      <th>street</th>\n",
       "      <th>city</th>\n",
       "      <th>region</th>\n",
       "      <th>postcode</th>\n",
       "      <th>lat</th>\n",
       "      <th>lon</th>\n",
       "    </tr>\n",
       "  </thead>\n",
       "  <tbody>\n",
       "    <tr>\n",
       "      <th>0</th>\n",
       "      <td>UNIT 39</td>\n",
       "      <td>60</td>\n",
       "      <td>JOHN GORTON DRIVE</td>\n",
       "      <td>COOMBS</td>\n",
       "      <td>ACT</td>\n",
       "      <td>2611.0</td>\n",
       "      <td>-35.321495</td>\n",
       "      <td>149.040149</td>\n",
       "    </tr>\n",
       "    <tr>\n",
       "      <th>1</th>\n",
       "      <td>UNIT 5</td>\n",
       "      <td>97</td>\n",
       "      <td>WILLIAMS ROAD</td>\n",
       "      <td>MILLICENT</td>\n",
       "      <td>SA</td>\n",
       "      <td>5280.0</td>\n",
       "      <td>-37.598421</td>\n",
       "      <td>140.349443</td>\n",
       "    </tr>\n",
       "    <tr>\n",
       "      <th>2</th>\n",
       "      <td>UNIT 13</td>\n",
       "      <td>11</td>\n",
       "      <td>STEFFANONI CIRCUIT</td>\n",
       "      <td>MONASH</td>\n",
       "      <td>ACT</td>\n",
       "      <td>2904.0</td>\n",
       "      <td>-35.415716</td>\n",
       "      <td>149.083158</td>\n",
       "    </tr>\n",
       "    <tr>\n",
       "      <th>3</th>\n",
       "      <td>UNIT 4</td>\n",
       "      <td>72-74</td>\n",
       "      <td>OCEAN STREET</td>\n",
       "      <td>VICTOR HARBOR</td>\n",
       "      <td>SA</td>\n",
       "      <td>5211.0</td>\n",
       "      <td>-35.552118</td>\n",
       "      <td>138.623021</td>\n",
       "    </tr>\n",
       "    <tr>\n",
       "      <th>4</th>\n",
       "      <td>UNIT 3</td>\n",
       "      <td>27</td>\n",
       "      <td>LYTTLETON CRESCENT</td>\n",
       "      <td>COOK</td>\n",
       "      <td>ACT</td>\n",
       "      <td>2614.0</td>\n",
       "      <td>-35.258771</td>\n",
       "      <td>149.064437</td>\n",
       "    </tr>\n",
       "    <tr>\n",
       "      <th>...</th>\n",
       "      <td>...</td>\n",
       "      <td>...</td>\n",
       "      <td>...</td>\n",
       "      <td>...</td>\n",
       "      <td>...</td>\n",
       "      <td>...</td>\n",
       "      <td>...</td>\n",
       "      <td>...</td>\n",
       "    </tr>\n",
       "    <tr>\n",
       "      <th>441729</th>\n",
       "      <td>UNIT 1</td>\n",
       "      <td>703</td>\n",
       "      <td>WEST TAMAR</td>\n",
       "      <td>LEGANA</td>\n",
       "      <td>TAS</td>\n",
       "      <td>7277.0</td>\n",
       "      <td>-41.378890</td>\n",
       "      <td>147.058006</td>\n",
       "    </tr>\n",
       "    <tr>\n",
       "      <th>441730</th>\n",
       "      <td>UNIT 1</td>\n",
       "      <td>27</td>\n",
       "      <td>RIVERBANK PLACE</td>\n",
       "      <td>RIVERSIDE</td>\n",
       "      <td>TAS</td>\n",
       "      <td>7250.0</td>\n",
       "      <td>-41.400033</td>\n",
       "      <td>147.088151</td>\n",
       "    </tr>\n",
       "    <tr>\n",
       "      <th>441731</th>\n",
       "      <td>UNIT 11</td>\n",
       "      <td>82</td>\n",
       "      <td>WARING STREET</td>\n",
       "      <td>RAVENSWOOD</td>\n",
       "      <td>TAS</td>\n",
       "      <td>7250.0</td>\n",
       "      <td>-41.409678</td>\n",
       "      <td>147.166719</td>\n",
       "    </tr>\n",
       "    <tr>\n",
       "      <th>441732</th>\n",
       "      <td>UNI</td>\n",
       "      <td>2</td>\n",
       "      <td>WESTRINGIA COURT</td>\n",
       "      <td>ROCHERLEA</td>\n",
       "      <td>TAS</td>\n",
       "      <td>7248.0</td>\n",
       "      <td>-41.377457</td>\n",
       "      <td>147.135171</td>\n",
       "    </tr>\n",
       "    <tr>\n",
       "      <th>441733</th>\n",
       "      <td>UNIT 1</td>\n",
       "      <td>17</td>\n",
       "      <td>BLACKWOOD</td>\n",
       "      <td>ROCHERLEA</td>\n",
       "      <td>TAS</td>\n",
       "      <td>7248.0</td>\n",
       "      <td>-41.376090</td>\n",
       "      <td>147.137768</td>\n",
       "    </tr>\n",
       "  </tbody>\n",
       "</table>\n",
       "<p>441734 rows × 8 columns</p>\n",
       "</div>"
      ],
      "text/plain": [
       "           unit number              street           city region  postcode  \\\n",
       "0       UNIT 39     60   JOHN GORTON DRIVE         COOMBS    ACT    2611.0   \n",
       "1        UNIT 5     97       WILLIAMS ROAD      MILLICENT     SA    5280.0   \n",
       "2       UNIT 13     11  STEFFANONI CIRCUIT         MONASH    ACT    2904.0   \n",
       "3        UNIT 4  72-74        OCEAN STREET  VICTOR HARBOR     SA    5211.0   \n",
       "4        UNIT 3     27  LYTTLETON CRESCENT           COOK    ACT    2614.0   \n",
       "...         ...    ...                 ...            ...    ...       ...   \n",
       "441729   UNIT 1    703          WEST TAMAR         LEGANA    TAS    7277.0   \n",
       "441730   UNIT 1     27     RIVERBANK PLACE      RIVERSIDE    TAS    7250.0   \n",
       "441731  UNIT 11     82       WARING STREET     RAVENSWOOD    TAS    7250.0   \n",
       "441732      UNI      2    WESTRINGIA COURT      ROCHERLEA    TAS    7248.0   \n",
       "441733   UNIT 1     17           BLACKWOOD      ROCHERLEA    TAS    7248.0   \n",
       "\n",
       "              lat         lon  \n",
       "0      -35.321495  149.040149  \n",
       "1      -37.598421  140.349443  \n",
       "2      -35.415716  149.083158  \n",
       "3      -35.552118  138.623021  \n",
       "4      -35.258771  149.064437  \n",
       "...           ...         ...  \n",
       "441729 -41.378890  147.058006  \n",
       "441730 -41.400033  147.088151  \n",
       "441731 -41.409678  147.166719  \n",
       "441732 -41.377457  147.135171  \n",
       "441733 -41.376090  147.137768  \n",
       "\n",
       "[441734 rows x 8 columns]"
      ]
     },
     "execution_count": 45,
     "metadata": {},
     "output_type": "execute_result"
    }
   ],
   "source": [
    "data"
   ]
  },
  {
   "cell_type": "code",
   "execution_count": 46,
   "id": "6a1b7c2b",
   "metadata": {
    "execution": {
     "iopub.execute_input": "2023-05-07T11:22:13.411329Z",
     "iopub.status.busy": "2023-05-07T11:22:13.410972Z",
     "iopub.status.idle": "2023-05-07T11:22:13.737324Z",
     "shell.execute_reply": "2023-05-07T11:22:13.736248Z"
    },
    "papermill": {
     "duration": 0.345719,
     "end_time": "2023-05-07T11:22:13.739449",
     "exception": false,
     "start_time": "2023-05-07T11:22:13.393730",
     "status": "completed"
    },
    "tags": []
   },
   "outputs": [
    {
     "data": {
      "text/plain": [
       "unit        0\n",
       "number      0\n",
       "street      0\n",
       "city        0\n",
       "region      0\n",
       "postcode    0\n",
       "lat         0\n",
       "lon         0\n",
       "dtype: int64"
      ]
     },
     "execution_count": 46,
     "metadata": {},
     "output_type": "execute_result"
    }
   ],
   "source": [
    "data.isnull().sum()"
   ]
  },
  {
   "cell_type": "code",
   "execution_count": 47,
   "id": "a68824d9",
   "metadata": {
    "execution": {
     "iopub.execute_input": "2023-05-07T11:22:13.773971Z",
     "iopub.status.busy": "2023-05-07T11:22:13.773589Z",
     "iopub.status.idle": "2023-05-07T11:22:14.140863Z",
     "shell.execute_reply": "2023-05-07T11:22:14.139927Z"
    },
    "papermill": {
     "duration": 0.387414,
     "end_time": "2023-05-07T11:22:14.143206",
     "exception": false,
     "start_time": "2023-05-07T11:22:13.755792",
     "status": "completed"
    },
    "tags": []
   },
   "outputs": [],
   "source": [
    "data.dropna(inplace=True)"
   ]
  },
  {
   "cell_type": "code",
   "execution_count": 48,
   "id": "0d64c266",
   "metadata": {
    "execution": {
     "iopub.execute_input": "2023-05-07T11:22:14.178120Z",
     "iopub.status.busy": "2023-05-07T11:22:14.177775Z",
     "iopub.status.idle": "2023-05-07T11:22:14.515929Z",
     "shell.execute_reply": "2023-05-07T11:22:14.514910Z"
    },
    "papermill": {
     "duration": 0.358305,
     "end_time": "2023-05-07T11:22:14.518112",
     "exception": false,
     "start_time": "2023-05-07T11:22:14.159807",
     "status": "completed"
    },
    "tags": []
   },
   "outputs": [
    {
     "data": {
      "text/plain": [
       "unit        0\n",
       "number      0\n",
       "street      0\n",
       "city        0\n",
       "region      0\n",
       "postcode    0\n",
       "lat         0\n",
       "lon         0\n",
       "dtype: int64"
      ]
     },
     "execution_count": 48,
     "metadata": {},
     "output_type": "execute_result"
    }
   ],
   "source": [
    "data.isnull().sum()"
   ]
  },
  {
   "cell_type": "code",
   "execution_count": 49,
   "id": "594db08a",
   "metadata": {
    "execution": {
     "iopub.execute_input": "2023-05-07T11:22:14.553217Z",
     "iopub.status.busy": "2023-05-07T11:22:14.552871Z",
     "iopub.status.idle": "2023-05-07T11:22:14.558490Z",
     "shell.execute_reply": "2023-05-07T11:22:14.557543Z"
    },
    "papermill": {
     "duration": 0.025802,
     "end_time": "2023-05-07T11:22:14.560628",
     "exception": false,
     "start_time": "2023-05-07T11:22:14.534826",
     "status": "completed"
    },
    "tags": []
   },
   "outputs": [
    {
     "data": {
      "text/plain": [
       "(441734, 8)"
      ]
     },
     "execution_count": 49,
     "metadata": {},
     "output_type": "execute_result"
    }
   ],
   "source": [
    "data.shape"
   ]
  },
  {
   "cell_type": "code",
   "execution_count": 50,
   "id": "00dd4bbb",
   "metadata": {
    "execution": {
     "iopub.execute_input": "2023-05-07T11:22:14.595241Z",
     "iopub.status.busy": "2023-05-07T11:22:14.594896Z",
     "iopub.status.idle": "2023-05-07T11:22:15.011961Z",
     "shell.execute_reply": "2023-05-07T11:22:15.010924Z"
    },
    "papermill": {
     "duration": 0.436877,
     "end_time": "2023-05-07T11:22:15.014101",
     "exception": false,
     "start_time": "2023-05-07T11:22:14.577224",
     "status": "completed"
    },
    "tags": []
   },
   "outputs": [
    {
     "data": {
      "text/html": [
       "<div>\n",
       "<style scoped>\n",
       "    .dataframe tbody tr th:only-of-type {\n",
       "        vertical-align: middle;\n",
       "    }\n",
       "\n",
       "    .dataframe tbody tr th {\n",
       "        vertical-align: top;\n",
       "    }\n",
       "\n",
       "    .dataframe thead th {\n",
       "        text-align: right;\n",
       "    }\n",
       "</style>\n",
       "<table border=\"1\" class=\"dataframe\">\n",
       "  <thead>\n",
       "    <tr style=\"text-align: right;\">\n",
       "      <th></th>\n",
       "      <th>unit</th>\n",
       "      <th>number</th>\n",
       "      <th>street</th>\n",
       "      <th>city</th>\n",
       "      <th>region</th>\n",
       "      <th>postcode</th>\n",
       "      <th>lat</th>\n",
       "      <th>lon</th>\n",
       "    </tr>\n",
       "  </thead>\n",
       "  <tbody>\n",
       "  </tbody>\n",
       "</table>\n",
       "</div>"
      ],
      "text/plain": [
       "Empty DataFrame\n",
       "Columns: [unit, number, street, city, region, postcode, lat, lon]\n",
       "Index: []"
      ]
     },
     "execution_count": 50,
     "metadata": {},
     "output_type": "execute_result"
    }
   ],
   "source": [
    "data[data.duplicated()]"
   ]
  },
  {
   "cell_type": "code",
   "execution_count": 51,
   "id": "6019f500",
   "metadata": {
    "execution": {
     "iopub.execute_input": "2023-05-07T11:22:15.049422Z",
     "iopub.status.busy": "2023-05-07T11:22:15.049074Z",
     "iopub.status.idle": "2023-05-07T11:22:15.064516Z",
     "shell.execute_reply": "2023-05-07T11:22:15.063646Z"
    },
    "papermill": {
     "duration": 0.035902,
     "end_time": "2023-05-07T11:22:15.066852",
     "exception": false,
     "start_time": "2023-05-07T11:22:15.030950",
     "status": "completed"
    },
    "tags": []
   },
   "outputs": [],
   "source": [
    "data[['lat','lon']]=data[['lat','lon']].round(3)"
   ]
  },
  {
   "cell_type": "code",
   "execution_count": 52,
   "id": "cd6fdc69",
   "metadata": {
    "execution": {
     "iopub.execute_input": "2023-05-07T11:22:15.102047Z",
     "iopub.status.busy": "2023-05-07T11:22:15.101699Z",
     "iopub.status.idle": "2023-05-07T11:22:15.114769Z",
     "shell.execute_reply": "2023-05-07T11:22:15.113815Z"
    },
    "papermill": {
     "duration": 0.033127,
     "end_time": "2023-05-07T11:22:15.116786",
     "exception": false,
     "start_time": "2023-05-07T11:22:15.083659",
     "status": "completed"
    },
    "tags": []
   },
   "outputs": [
    {
     "data": {
      "text/html": [
       "<div>\n",
       "<style scoped>\n",
       "    .dataframe tbody tr th:only-of-type {\n",
       "        vertical-align: middle;\n",
       "    }\n",
       "\n",
       "    .dataframe tbody tr th {\n",
       "        vertical-align: top;\n",
       "    }\n",
       "\n",
       "    .dataframe thead th {\n",
       "        text-align: right;\n",
       "    }\n",
       "</style>\n",
       "<table border=\"1\" class=\"dataframe\">\n",
       "  <thead>\n",
       "    <tr style=\"text-align: right;\">\n",
       "      <th></th>\n",
       "      <th>unit</th>\n",
       "      <th>number</th>\n",
       "      <th>street</th>\n",
       "      <th>city</th>\n",
       "      <th>region</th>\n",
       "      <th>postcode</th>\n",
       "      <th>lat</th>\n",
       "      <th>lon</th>\n",
       "    </tr>\n",
       "  </thead>\n",
       "  <tbody>\n",
       "    <tr>\n",
       "      <th>0</th>\n",
       "      <td>UNIT 39</td>\n",
       "      <td>60</td>\n",
       "      <td>JOHN GORTON DRIVE</td>\n",
       "      <td>COOMBS</td>\n",
       "      <td>ACT</td>\n",
       "      <td>2611.0</td>\n",
       "      <td>-35.321</td>\n",
       "      <td>149.040</td>\n",
       "    </tr>\n",
       "    <tr>\n",
       "      <th>1</th>\n",
       "      <td>UNIT 5</td>\n",
       "      <td>97</td>\n",
       "      <td>WILLIAMS ROAD</td>\n",
       "      <td>MILLICENT</td>\n",
       "      <td>SA</td>\n",
       "      <td>5280.0</td>\n",
       "      <td>-37.598</td>\n",
       "      <td>140.349</td>\n",
       "    </tr>\n",
       "    <tr>\n",
       "      <th>2</th>\n",
       "      <td>UNIT 13</td>\n",
       "      <td>11</td>\n",
       "      <td>STEFFANONI CIRCUIT</td>\n",
       "      <td>MONASH</td>\n",
       "      <td>ACT</td>\n",
       "      <td>2904.0</td>\n",
       "      <td>-35.416</td>\n",
       "      <td>149.083</td>\n",
       "    </tr>\n",
       "    <tr>\n",
       "      <th>3</th>\n",
       "      <td>UNIT 4</td>\n",
       "      <td>72-74</td>\n",
       "      <td>OCEAN STREET</td>\n",
       "      <td>VICTOR HARBOR</td>\n",
       "      <td>SA</td>\n",
       "      <td>5211.0</td>\n",
       "      <td>-35.552</td>\n",
       "      <td>138.623</td>\n",
       "    </tr>\n",
       "    <tr>\n",
       "      <th>4</th>\n",
       "      <td>UNIT 3</td>\n",
       "      <td>27</td>\n",
       "      <td>LYTTLETON CRESCENT</td>\n",
       "      <td>COOK</td>\n",
       "      <td>ACT</td>\n",
       "      <td>2614.0</td>\n",
       "      <td>-35.259</td>\n",
       "      <td>149.064</td>\n",
       "    </tr>\n",
       "  </tbody>\n",
       "</table>\n",
       "</div>"
      ],
      "text/plain": [
       "      unit number              street           city region  postcode     lat  \\\n",
       "0  UNIT 39     60   JOHN GORTON DRIVE         COOMBS    ACT    2611.0 -35.321   \n",
       "1   UNIT 5     97       WILLIAMS ROAD      MILLICENT     SA    5280.0 -37.598   \n",
       "2  UNIT 13     11  STEFFANONI CIRCUIT         MONASH    ACT    2904.0 -35.416   \n",
       "3   UNIT 4  72-74        OCEAN STREET  VICTOR HARBOR     SA    5211.0 -35.552   \n",
       "4   UNIT 3     27  LYTTLETON CRESCENT           COOK    ACT    2614.0 -35.259   \n",
       "\n",
       "       lon  \n",
       "0  149.040  \n",
       "1  140.349  \n",
       "2  149.083  \n",
       "3  138.623  \n",
       "4  149.064  "
      ]
     },
     "execution_count": 52,
     "metadata": {},
     "output_type": "execute_result"
    }
   ],
   "source": [
    "data.head()"
   ]
  },
  {
   "cell_type": "code",
   "execution_count": 53,
   "id": "572dece8",
   "metadata": {
    "execution": {
     "iopub.execute_input": "2023-05-07T11:22:15.152922Z",
     "iopub.status.busy": "2023-05-07T11:22:15.152526Z",
     "iopub.status.idle": "2023-05-07T11:22:15.169927Z",
     "shell.execute_reply": "2023-05-07T11:22:15.168897Z"
    },
    "papermill": {
     "duration": 0.037764,
     "end_time": "2023-05-07T11:22:15.172008",
     "exception": false,
     "start_time": "2023-05-07T11:22:15.134244",
     "status": "completed"
    },
    "tags": []
   },
   "outputs": [
    {
     "data": {
      "text/html": [
       "<div>\n",
       "<style scoped>\n",
       "    .dataframe tbody tr th:only-of-type {\n",
       "        vertical-align: middle;\n",
       "    }\n",
       "\n",
       "    .dataframe tbody tr th {\n",
       "        vertical-align: top;\n",
       "    }\n",
       "\n",
       "    .dataframe thead th {\n",
       "        text-align: right;\n",
       "    }\n",
       "</style>\n",
       "<table border=\"1\" class=\"dataframe\">\n",
       "  <thead>\n",
       "    <tr style=\"text-align: right;\">\n",
       "      <th></th>\n",
       "      <th>unit</th>\n",
       "      <th>number</th>\n",
       "      <th>street</th>\n",
       "      <th>city</th>\n",
       "      <th>region</th>\n",
       "      <th>postcode</th>\n",
       "      <th>lat</th>\n",
       "      <th>lon</th>\n",
       "    </tr>\n",
       "  </thead>\n",
       "  <tbody>\n",
       "    <tr>\n",
       "      <th>0</th>\n",
       "      <td>UNIT 39</td>\n",
       "      <td>60</td>\n",
       "      <td>JOHN GORTON DRIVE</td>\n",
       "      <td>COOMBS</td>\n",
       "      <td>ACT</td>\n",
       "      <td>2611.0</td>\n",
       "      <td>-35.321</td>\n",
       "      <td>149.040</td>\n",
       "    </tr>\n",
       "    <tr>\n",
       "      <th>1</th>\n",
       "      <td>UNIT 5</td>\n",
       "      <td>97</td>\n",
       "      <td>WILLIAMS ROAD</td>\n",
       "      <td>MILLICENT</td>\n",
       "      <td>SA</td>\n",
       "      <td>5280.0</td>\n",
       "      <td>-37.598</td>\n",
       "      <td>140.349</td>\n",
       "    </tr>\n",
       "    <tr>\n",
       "      <th>2</th>\n",
       "      <td>UNIT 13</td>\n",
       "      <td>11</td>\n",
       "      <td>STEFFANONI CIRCUIT</td>\n",
       "      <td>MONASH</td>\n",
       "      <td>ACT</td>\n",
       "      <td>2904.0</td>\n",
       "      <td>-35.416</td>\n",
       "      <td>149.083</td>\n",
       "    </tr>\n",
       "    <tr>\n",
       "      <th>3</th>\n",
       "      <td>UNIT 4</td>\n",
       "      <td>72-74</td>\n",
       "      <td>OCEAN STREET</td>\n",
       "      <td>VICTOR HARBOR</td>\n",
       "      <td>SA</td>\n",
       "      <td>5211.0</td>\n",
       "      <td>-35.552</td>\n",
       "      <td>138.623</td>\n",
       "    </tr>\n",
       "    <tr>\n",
       "      <th>4</th>\n",
       "      <td>UNIT 3</td>\n",
       "      <td>27</td>\n",
       "      <td>LYTTLETON CRESCENT</td>\n",
       "      <td>COOK</td>\n",
       "      <td>ACT</td>\n",
       "      <td>2614.0</td>\n",
       "      <td>-35.259</td>\n",
       "      <td>149.064</td>\n",
       "    </tr>\n",
       "    <tr>\n",
       "      <th>...</th>\n",
       "      <td>...</td>\n",
       "      <td>...</td>\n",
       "      <td>...</td>\n",
       "      <td>...</td>\n",
       "      <td>...</td>\n",
       "      <td>...</td>\n",
       "      <td>...</td>\n",
       "      <td>...</td>\n",
       "    </tr>\n",
       "    <tr>\n",
       "      <th>441729</th>\n",
       "      <td>UNIT 1</td>\n",
       "      <td>703</td>\n",
       "      <td>WEST TAMAR</td>\n",
       "      <td>LEGANA</td>\n",
       "      <td>TAS</td>\n",
       "      <td>7277.0</td>\n",
       "      <td>-41.379</td>\n",
       "      <td>147.058</td>\n",
       "    </tr>\n",
       "    <tr>\n",
       "      <th>441730</th>\n",
       "      <td>UNIT 1</td>\n",
       "      <td>27</td>\n",
       "      <td>RIVERBANK PLACE</td>\n",
       "      <td>RIVERSIDE</td>\n",
       "      <td>TAS</td>\n",
       "      <td>7250.0</td>\n",
       "      <td>-41.400</td>\n",
       "      <td>147.088</td>\n",
       "    </tr>\n",
       "    <tr>\n",
       "      <th>441731</th>\n",
       "      <td>UNIT 11</td>\n",
       "      <td>82</td>\n",
       "      <td>WARING STREET</td>\n",
       "      <td>RAVENSWOOD</td>\n",
       "      <td>TAS</td>\n",
       "      <td>7250.0</td>\n",
       "      <td>-41.410</td>\n",
       "      <td>147.167</td>\n",
       "    </tr>\n",
       "    <tr>\n",
       "      <th>441732</th>\n",
       "      <td>UNI</td>\n",
       "      <td>2</td>\n",
       "      <td>WESTRINGIA COURT</td>\n",
       "      <td>ROCHERLEA</td>\n",
       "      <td>TAS</td>\n",
       "      <td>7248.0</td>\n",
       "      <td>-41.377</td>\n",
       "      <td>147.135</td>\n",
       "    </tr>\n",
       "    <tr>\n",
       "      <th>441733</th>\n",
       "      <td>UNIT 1</td>\n",
       "      <td>17</td>\n",
       "      <td>BLACKWOOD</td>\n",
       "      <td>ROCHERLEA</td>\n",
       "      <td>TAS</td>\n",
       "      <td>7248.0</td>\n",
       "      <td>-41.376</td>\n",
       "      <td>147.138</td>\n",
       "    </tr>\n",
       "  </tbody>\n",
       "</table>\n",
       "<p>441734 rows × 8 columns</p>\n",
       "</div>"
      ],
      "text/plain": [
       "           unit number              street           city region  postcode  \\\n",
       "0       UNIT 39     60   JOHN GORTON DRIVE         COOMBS    ACT    2611.0   \n",
       "1        UNIT 5     97       WILLIAMS ROAD      MILLICENT     SA    5280.0   \n",
       "2       UNIT 13     11  STEFFANONI CIRCUIT         MONASH    ACT    2904.0   \n",
       "3        UNIT 4  72-74        OCEAN STREET  VICTOR HARBOR     SA    5211.0   \n",
       "4        UNIT 3     27  LYTTLETON CRESCENT           COOK    ACT    2614.0   \n",
       "...         ...    ...                 ...            ...    ...       ...   \n",
       "441729   UNIT 1    703          WEST TAMAR         LEGANA    TAS    7277.0   \n",
       "441730   UNIT 1     27     RIVERBANK PLACE      RIVERSIDE    TAS    7250.0   \n",
       "441731  UNIT 11     82       WARING STREET     RAVENSWOOD    TAS    7250.0   \n",
       "441732      UNI      2    WESTRINGIA COURT      ROCHERLEA    TAS    7248.0   \n",
       "441733   UNIT 1     17           BLACKWOOD      ROCHERLEA    TAS    7248.0   \n",
       "\n",
       "           lat      lon  \n",
       "0      -35.321  149.040  \n",
       "1      -37.598  140.349  \n",
       "2      -35.416  149.083  \n",
       "3      -35.552  138.623  \n",
       "4      -35.259  149.064  \n",
       "...        ...      ...  \n",
       "441729 -41.379  147.058  \n",
       "441730 -41.400  147.088  \n",
       "441731 -41.410  147.167  \n",
       "441732 -41.377  147.135  \n",
       "441733 -41.376  147.138  \n",
       "\n",
       "[441734 rows x 8 columns]"
      ]
     },
     "execution_count": 53,
     "metadata": {},
     "output_type": "execute_result"
    }
   ],
   "source": [
    "data"
   ]
  },
  {
   "cell_type": "code",
   "execution_count": 54,
   "id": "9ed9723b",
   "metadata": {
    "execution": {
     "iopub.execute_input": "2023-05-07T11:22:15.208705Z",
     "iopub.status.busy": "2023-05-07T11:22:15.208326Z",
     "iopub.status.idle": "2023-05-07T11:22:15.213508Z",
     "shell.execute_reply": "2023-05-07T11:22:15.212377Z"
    },
    "papermill": {
     "duration": 0.025952,
     "end_time": "2023-05-07T11:22:15.215435",
     "exception": false,
     "start_time": "2023-05-07T11:22:15.189483",
     "status": "completed"
    },
    "tags": []
   },
   "outputs": [],
   "source": [
    "data.rename(columns={'unit':'unit_type','city':'suburb'},inplace=True)"
   ]
  },
  {
   "cell_type": "code",
   "execution_count": 55,
   "id": "1b85abe7",
   "metadata": {
    "execution": {
     "iopub.execute_input": "2023-05-07T11:22:15.252277Z",
     "iopub.status.busy": "2023-05-07T11:22:15.251607Z",
     "iopub.status.idle": "2023-05-07T11:22:15.264946Z",
     "shell.execute_reply": "2023-05-07T11:22:15.263958Z"
    },
    "papermill": {
     "duration": 0.034248,
     "end_time": "2023-05-07T11:22:15.266943",
     "exception": false,
     "start_time": "2023-05-07T11:22:15.232695",
     "status": "completed"
    },
    "tags": []
   },
   "outputs": [
    {
     "data": {
      "text/html": [
       "<div>\n",
       "<style scoped>\n",
       "    .dataframe tbody tr th:only-of-type {\n",
       "        vertical-align: middle;\n",
       "    }\n",
       "\n",
       "    .dataframe tbody tr th {\n",
       "        vertical-align: top;\n",
       "    }\n",
       "\n",
       "    .dataframe thead th {\n",
       "        text-align: right;\n",
       "    }\n",
       "</style>\n",
       "<table border=\"1\" class=\"dataframe\">\n",
       "  <thead>\n",
       "    <tr style=\"text-align: right;\">\n",
       "      <th></th>\n",
       "      <th>unit_type</th>\n",
       "      <th>number</th>\n",
       "      <th>street</th>\n",
       "      <th>suburb</th>\n",
       "      <th>region</th>\n",
       "      <th>postcode</th>\n",
       "      <th>lat</th>\n",
       "      <th>lon</th>\n",
       "    </tr>\n",
       "  </thead>\n",
       "  <tbody>\n",
       "    <tr>\n",
       "      <th>0</th>\n",
       "      <td>UNIT 39</td>\n",
       "      <td>60</td>\n",
       "      <td>JOHN GORTON DRIVE</td>\n",
       "      <td>COOMBS</td>\n",
       "      <td>ACT</td>\n",
       "      <td>2611.0</td>\n",
       "      <td>-35.321</td>\n",
       "      <td>149.040</td>\n",
       "    </tr>\n",
       "    <tr>\n",
       "      <th>1</th>\n",
       "      <td>UNIT 5</td>\n",
       "      <td>97</td>\n",
       "      <td>WILLIAMS ROAD</td>\n",
       "      <td>MILLICENT</td>\n",
       "      <td>SA</td>\n",
       "      <td>5280.0</td>\n",
       "      <td>-37.598</td>\n",
       "      <td>140.349</td>\n",
       "    </tr>\n",
       "    <tr>\n",
       "      <th>2</th>\n",
       "      <td>UNIT 13</td>\n",
       "      <td>11</td>\n",
       "      <td>STEFFANONI CIRCUIT</td>\n",
       "      <td>MONASH</td>\n",
       "      <td>ACT</td>\n",
       "      <td>2904.0</td>\n",
       "      <td>-35.416</td>\n",
       "      <td>149.083</td>\n",
       "    </tr>\n",
       "    <tr>\n",
       "      <th>3</th>\n",
       "      <td>UNIT 4</td>\n",
       "      <td>72-74</td>\n",
       "      <td>OCEAN STREET</td>\n",
       "      <td>VICTOR HARBOR</td>\n",
       "      <td>SA</td>\n",
       "      <td>5211.0</td>\n",
       "      <td>-35.552</td>\n",
       "      <td>138.623</td>\n",
       "    </tr>\n",
       "    <tr>\n",
       "      <th>4</th>\n",
       "      <td>UNIT 3</td>\n",
       "      <td>27</td>\n",
       "      <td>LYTTLETON CRESCENT</td>\n",
       "      <td>COOK</td>\n",
       "      <td>ACT</td>\n",
       "      <td>2614.0</td>\n",
       "      <td>-35.259</td>\n",
       "      <td>149.064</td>\n",
       "    </tr>\n",
       "  </tbody>\n",
       "</table>\n",
       "</div>"
      ],
      "text/plain": [
       "  unit_type number              street         suburb region  postcode  \\\n",
       "0   UNIT 39     60   JOHN GORTON DRIVE         COOMBS    ACT    2611.0   \n",
       "1    UNIT 5     97       WILLIAMS ROAD      MILLICENT     SA    5280.0   \n",
       "2   UNIT 13     11  STEFFANONI CIRCUIT         MONASH    ACT    2904.0   \n",
       "3    UNIT 4  72-74        OCEAN STREET  VICTOR HARBOR     SA    5211.0   \n",
       "4    UNIT 3     27  LYTTLETON CRESCENT           COOK    ACT    2614.0   \n",
       "\n",
       "      lat      lon  \n",
       "0 -35.321  149.040  \n",
       "1 -37.598  140.349  \n",
       "2 -35.416  149.083  \n",
       "3 -35.552  138.623  \n",
       "4 -35.259  149.064  "
      ]
     },
     "execution_count": 55,
     "metadata": {},
     "output_type": "execute_result"
    }
   ],
   "source": [
    "data.head()"
   ]
  },
  {
   "cell_type": "code",
   "execution_count": 56,
   "id": "08e05ca6",
   "metadata": {
    "execution": {
     "iopub.execute_input": "2023-05-07T11:22:15.303689Z",
     "iopub.status.busy": "2023-05-07T11:22:15.302989Z",
     "iopub.status.idle": "2023-05-07T11:22:15.309485Z",
     "shell.execute_reply": "2023-05-07T11:22:15.308535Z"
    },
    "papermill": {
     "duration": 0.026855,
     "end_time": "2023-05-07T11:22:15.311541",
     "exception": false,
     "start_time": "2023-05-07T11:22:15.284686",
     "status": "completed"
    },
    "tags": []
   },
   "outputs": [
    {
     "data": {
      "text/plain": [
       "(441734, 8)"
      ]
     },
     "execution_count": 56,
     "metadata": {},
     "output_type": "execute_result"
    }
   ],
   "source": [
    "data.shape"
   ]
  },
  {
   "cell_type": "code",
   "execution_count": 57,
   "id": "ac1e4a1f",
   "metadata": {
    "execution": {
     "iopub.execute_input": "2023-05-07T11:22:15.349024Z",
     "iopub.status.busy": "2023-05-07T11:22:15.348046Z",
     "iopub.status.idle": "2023-05-07T11:22:17.773147Z",
     "shell.execute_reply": "2023-05-07T11:22:17.771948Z"
    },
    "papermill": {
     "duration": 2.446349,
     "end_time": "2023-05-07T11:22:17.775938",
     "exception": false,
     "start_time": "2023-05-07T11:22:15.329589",
     "status": "completed"
    },
    "tags": []
   },
   "outputs": [],
   "source": [
    "data.to_csv(\"Australia Address.csv\")"
   ]
  },
  {
   "cell_type": "code",
   "execution_count": null,
   "id": "abbc59ba",
   "metadata": {
    "papermill": {
     "duration": 0.017357,
     "end_time": "2023-05-07T11:22:17.811360",
     "exception": false,
     "start_time": "2023-05-07T11:22:17.794003",
     "status": "completed"
    },
    "tags": []
   },
   "outputs": [],
   "source": []
  }
 ],
 "metadata": {
  "kernelspec": {
   "display_name": "Python 3",
   "language": "python",
   "name": "python3"
  },
  "language_info": {
   "codemirror_mode": {
    "name": "ipython",
    "version": 3
   },
   "file_extension": ".py",
   "mimetype": "text/x-python",
   "name": "python",
   "nbconvert_exporter": "python",
   "pygments_lexer": "ipython3",
   "version": "3.10.10"
  },
  "papermill": {
   "default_parameters": {},
   "duration": 196.741903,
   "end_time": "2023-05-07T11:22:20.055584",
   "environment_variables": {},
   "exception": null,
   "input_path": "__notebook__.ipynb",
   "output_path": "__notebook__.ipynb",
   "parameters": {},
   "start_time": "2023-05-07T11:19:03.313681",
   "version": "2.4.0"
  }
 },
 "nbformat": 4,
 "nbformat_minor": 5
}
